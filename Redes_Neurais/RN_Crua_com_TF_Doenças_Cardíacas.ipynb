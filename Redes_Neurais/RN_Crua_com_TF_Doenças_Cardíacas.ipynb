{
  "nbformat": 4,
  "nbformat_minor": 0,
  "metadata": {
    "colab": {
      "provenance": [],
      "authorship_tag": "ABX9TyOZ+VL/xbDTtv2avLCZOzXv",
      "include_colab_link": true
    },
    "kernelspec": {
      "name": "python3",
      "display_name": "Python 3"
    },
    "language_info": {
      "name": "python"
    }
  },
  "cells": [
    {
      "cell_type": "markdown",
      "metadata": {
        "id": "view-in-github",
        "colab_type": "text"
      },
      "source": [
        "<a href=\"https://colab.research.google.com/github/TheAcoff/Notebook-Alura/blob/main/Redes_Neurais/RN_Crua_com_TF_Doen%C3%A7as_Card%C3%ADacas.ipynb\" target=\"_parent\"><img src=\"https://colab.research.google.com/assets/colab-badge.svg\" alt=\"Open In Colab\"/></a>"
      ]
    },
    {
      "cell_type": "markdown",
      "source": [
        "# Doenças Cardíacas, Previsão com Redes Neurais\n",
        "Nesse trabalho, será desenvovida uma rede neural usando TensorFlow no baixo nível, podendo ter controle total dos parâmetros utilizados na construção."
      ],
      "metadata": {
        "id": "erWuUrf8AWWG"
      }
    },
    {
      "cell_type": "markdown",
      "source": [
        "## Dados"
      ],
      "metadata": {
        "id": "qXQKFOBfAUgA"
      }
    },
    {
      "cell_type": "markdown",
      "source": [
        "Instalação da biblioteca que puxa os dados"
      ],
      "metadata": {
        "id": "Rc-OvaCU-pf9"
      }
    },
    {
      "cell_type": "code",
      "execution_count": 132,
      "metadata": {
        "colab": {
          "base_uri": "https://localhost:8080/"
        },
        "id": "lgjoD2kp-ZUC",
        "outputId": "be1e3d8b-889d-4e4d-9a27-644292861264"
      },
      "outputs": [
        {
          "output_type": "stream",
          "name": "stdout",
          "text": [
            "Requirement already satisfied: ucimlrepo in /usr/local/lib/python3.10/dist-packages (0.0.7)\n",
            "Requirement already satisfied: pandas>=1.0.0 in /usr/local/lib/python3.10/dist-packages (from ucimlrepo) (2.1.4)\n",
            "Requirement already satisfied: certifi>=2020.12.5 in /usr/local/lib/python3.10/dist-packages (from ucimlrepo) (2024.7.4)\n",
            "Requirement already satisfied: numpy<2,>=1.22.4 in /usr/local/lib/python3.10/dist-packages (from pandas>=1.0.0->ucimlrepo) (1.26.4)\n",
            "Requirement already satisfied: python-dateutil>=2.8.2 in /usr/local/lib/python3.10/dist-packages (from pandas>=1.0.0->ucimlrepo) (2.8.2)\n",
            "Requirement already satisfied: pytz>=2020.1 in /usr/local/lib/python3.10/dist-packages (from pandas>=1.0.0->ucimlrepo) (2024.1)\n",
            "Requirement already satisfied: tzdata>=2022.1 in /usr/local/lib/python3.10/dist-packages (from pandas>=1.0.0->ucimlrepo) (2024.1)\n",
            "Requirement already satisfied: six>=1.5 in /usr/local/lib/python3.10/dist-packages (from python-dateutil>=2.8.2->pandas>=1.0.0->ucimlrepo) (1.16.0)\n"
          ]
        }
      ],
      "source": [
        "!pip install ucimlrepo"
      ]
    },
    {
      "cell_type": "markdown",
      "source": [
        "Podemos então baixar nossa base de dados e ver todas as variáveis"
      ],
      "metadata": {
        "id": "7ipvtxvS-3NJ"
      }
    },
    {
      "cell_type": "code",
      "source": [
        "from ucimlrepo import fetch_ucirepo\n",
        "\n",
        "doenca_cardiaca = fetch_ucirepo(id=45)\n",
        "print('Variáveis disponíveis no dataset de doenças cardíacas da UCI:')\n",
        "doenca_cardiaca.variables"
      ],
      "metadata": {
        "colab": {
          "base_uri": "https://localhost:8080/",
          "height": 593
        },
        "id": "oDXA6Umk-u_R",
        "outputId": "769a5e9b-1718-45fe-bc31-eeb7d8264e8c"
      },
      "execution_count": 133,
      "outputs": [
        {
          "output_type": "stream",
          "name": "stdout",
          "text": [
            "Variáveis disponíveis no dataset de doenças cardíacas da UCI:\n"
          ]
        },
        {
          "output_type": "execute_result",
          "data": {
            "text/plain": [
              "        name     role         type demographic  \\\n",
              "0        age  Feature      Integer         Age   \n",
              "1        sex  Feature  Categorical         Sex   \n",
              "2         cp  Feature  Categorical        None   \n",
              "3   trestbps  Feature      Integer        None   \n",
              "4       chol  Feature      Integer        None   \n",
              "5        fbs  Feature  Categorical        None   \n",
              "6    restecg  Feature  Categorical        None   \n",
              "7    thalach  Feature      Integer        None   \n",
              "8      exang  Feature  Categorical        None   \n",
              "9    oldpeak  Feature      Integer        None   \n",
              "10     slope  Feature  Categorical        None   \n",
              "11        ca  Feature      Integer        None   \n",
              "12      thal  Feature  Categorical        None   \n",
              "13       num   Target      Integer        None   \n",
              "\n",
              "                                          description  units missing_values  \n",
              "0                                                None  years             no  \n",
              "1                                                None   None             no  \n",
              "2                                                None   None             no  \n",
              "3   resting blood pressure (on admission to the ho...  mm Hg             no  \n",
              "4                                   serum cholestoral  mg/dl             no  \n",
              "5                     fasting blood sugar > 120 mg/dl   None             no  \n",
              "6                                                None   None             no  \n",
              "7                         maximum heart rate achieved   None             no  \n",
              "8                             exercise induced angina   None             no  \n",
              "9   ST depression induced by exercise relative to ...   None             no  \n",
              "10                                               None   None             no  \n",
              "11  number of major vessels (0-3) colored by flour...   None            yes  \n",
              "12                                               None   None            yes  \n",
              "13                         diagnosis of heart disease   None             no  "
            ],
            "text/html": [
              "\n",
              "  <div id=\"df-5203ade2-bc00-4f9c-b0ec-86300050067c\" class=\"colab-df-container\">\n",
              "    <div>\n",
              "<style scoped>\n",
              "    .dataframe tbody tr th:only-of-type {\n",
              "        vertical-align: middle;\n",
              "    }\n",
              "\n",
              "    .dataframe tbody tr th {\n",
              "        vertical-align: top;\n",
              "    }\n",
              "\n",
              "    .dataframe thead th {\n",
              "        text-align: right;\n",
              "    }\n",
              "</style>\n",
              "<table border=\"1\" class=\"dataframe\">\n",
              "  <thead>\n",
              "    <tr style=\"text-align: right;\">\n",
              "      <th></th>\n",
              "      <th>name</th>\n",
              "      <th>role</th>\n",
              "      <th>type</th>\n",
              "      <th>demographic</th>\n",
              "      <th>description</th>\n",
              "      <th>units</th>\n",
              "      <th>missing_values</th>\n",
              "    </tr>\n",
              "  </thead>\n",
              "  <tbody>\n",
              "    <tr>\n",
              "      <th>0</th>\n",
              "      <td>age</td>\n",
              "      <td>Feature</td>\n",
              "      <td>Integer</td>\n",
              "      <td>Age</td>\n",
              "      <td>None</td>\n",
              "      <td>years</td>\n",
              "      <td>no</td>\n",
              "    </tr>\n",
              "    <tr>\n",
              "      <th>1</th>\n",
              "      <td>sex</td>\n",
              "      <td>Feature</td>\n",
              "      <td>Categorical</td>\n",
              "      <td>Sex</td>\n",
              "      <td>None</td>\n",
              "      <td>None</td>\n",
              "      <td>no</td>\n",
              "    </tr>\n",
              "    <tr>\n",
              "      <th>2</th>\n",
              "      <td>cp</td>\n",
              "      <td>Feature</td>\n",
              "      <td>Categorical</td>\n",
              "      <td>None</td>\n",
              "      <td>None</td>\n",
              "      <td>None</td>\n",
              "      <td>no</td>\n",
              "    </tr>\n",
              "    <tr>\n",
              "      <th>3</th>\n",
              "      <td>trestbps</td>\n",
              "      <td>Feature</td>\n",
              "      <td>Integer</td>\n",
              "      <td>None</td>\n",
              "      <td>resting blood pressure (on admission to the ho...</td>\n",
              "      <td>mm Hg</td>\n",
              "      <td>no</td>\n",
              "    </tr>\n",
              "    <tr>\n",
              "      <th>4</th>\n",
              "      <td>chol</td>\n",
              "      <td>Feature</td>\n",
              "      <td>Integer</td>\n",
              "      <td>None</td>\n",
              "      <td>serum cholestoral</td>\n",
              "      <td>mg/dl</td>\n",
              "      <td>no</td>\n",
              "    </tr>\n",
              "    <tr>\n",
              "      <th>5</th>\n",
              "      <td>fbs</td>\n",
              "      <td>Feature</td>\n",
              "      <td>Categorical</td>\n",
              "      <td>None</td>\n",
              "      <td>fasting blood sugar &gt; 120 mg/dl</td>\n",
              "      <td>None</td>\n",
              "      <td>no</td>\n",
              "    </tr>\n",
              "    <tr>\n",
              "      <th>6</th>\n",
              "      <td>restecg</td>\n",
              "      <td>Feature</td>\n",
              "      <td>Categorical</td>\n",
              "      <td>None</td>\n",
              "      <td>None</td>\n",
              "      <td>None</td>\n",
              "      <td>no</td>\n",
              "    </tr>\n",
              "    <tr>\n",
              "      <th>7</th>\n",
              "      <td>thalach</td>\n",
              "      <td>Feature</td>\n",
              "      <td>Integer</td>\n",
              "      <td>None</td>\n",
              "      <td>maximum heart rate achieved</td>\n",
              "      <td>None</td>\n",
              "      <td>no</td>\n",
              "    </tr>\n",
              "    <tr>\n",
              "      <th>8</th>\n",
              "      <td>exang</td>\n",
              "      <td>Feature</td>\n",
              "      <td>Categorical</td>\n",
              "      <td>None</td>\n",
              "      <td>exercise induced angina</td>\n",
              "      <td>None</td>\n",
              "      <td>no</td>\n",
              "    </tr>\n",
              "    <tr>\n",
              "      <th>9</th>\n",
              "      <td>oldpeak</td>\n",
              "      <td>Feature</td>\n",
              "      <td>Integer</td>\n",
              "      <td>None</td>\n",
              "      <td>ST depression induced by exercise relative to ...</td>\n",
              "      <td>None</td>\n",
              "      <td>no</td>\n",
              "    </tr>\n",
              "    <tr>\n",
              "      <th>10</th>\n",
              "      <td>slope</td>\n",
              "      <td>Feature</td>\n",
              "      <td>Categorical</td>\n",
              "      <td>None</td>\n",
              "      <td>None</td>\n",
              "      <td>None</td>\n",
              "      <td>no</td>\n",
              "    </tr>\n",
              "    <tr>\n",
              "      <th>11</th>\n",
              "      <td>ca</td>\n",
              "      <td>Feature</td>\n",
              "      <td>Integer</td>\n",
              "      <td>None</td>\n",
              "      <td>number of major vessels (0-3) colored by flour...</td>\n",
              "      <td>None</td>\n",
              "      <td>yes</td>\n",
              "    </tr>\n",
              "    <tr>\n",
              "      <th>12</th>\n",
              "      <td>thal</td>\n",
              "      <td>Feature</td>\n",
              "      <td>Categorical</td>\n",
              "      <td>None</td>\n",
              "      <td>None</td>\n",
              "      <td>None</td>\n",
              "      <td>yes</td>\n",
              "    </tr>\n",
              "    <tr>\n",
              "      <th>13</th>\n",
              "      <td>num</td>\n",
              "      <td>Target</td>\n",
              "      <td>Integer</td>\n",
              "      <td>None</td>\n",
              "      <td>diagnosis of heart disease</td>\n",
              "      <td>None</td>\n",
              "      <td>no</td>\n",
              "    </tr>\n",
              "  </tbody>\n",
              "</table>\n",
              "</div>\n",
              "    <div class=\"colab-df-buttons\">\n",
              "\n",
              "  <div class=\"colab-df-container\">\n",
              "    <button class=\"colab-df-convert\" onclick=\"convertToInteractive('df-5203ade2-bc00-4f9c-b0ec-86300050067c')\"\n",
              "            title=\"Convert this dataframe to an interactive table.\"\n",
              "            style=\"display:none;\">\n",
              "\n",
              "  <svg xmlns=\"http://www.w3.org/2000/svg\" height=\"24px\" viewBox=\"0 -960 960 960\">\n",
              "    <path d=\"M120-120v-720h720v720H120Zm60-500h600v-160H180v160Zm220 220h160v-160H400v160Zm0 220h160v-160H400v160ZM180-400h160v-160H180v160Zm440 0h160v-160H620v160ZM180-180h160v-160H180v160Zm440 0h160v-160H620v160Z\"/>\n",
              "  </svg>\n",
              "    </button>\n",
              "\n",
              "  <style>\n",
              "    .colab-df-container {\n",
              "      display:flex;\n",
              "      gap: 12px;\n",
              "    }\n",
              "\n",
              "    .colab-df-convert {\n",
              "      background-color: #E8F0FE;\n",
              "      border: none;\n",
              "      border-radius: 50%;\n",
              "      cursor: pointer;\n",
              "      display: none;\n",
              "      fill: #1967D2;\n",
              "      height: 32px;\n",
              "      padding: 0 0 0 0;\n",
              "      width: 32px;\n",
              "    }\n",
              "\n",
              "    .colab-df-convert:hover {\n",
              "      background-color: #E2EBFA;\n",
              "      box-shadow: 0px 1px 2px rgba(60, 64, 67, 0.3), 0px 1px 3px 1px rgba(60, 64, 67, 0.15);\n",
              "      fill: #174EA6;\n",
              "    }\n",
              "\n",
              "    .colab-df-buttons div {\n",
              "      margin-bottom: 4px;\n",
              "    }\n",
              "\n",
              "    [theme=dark] .colab-df-convert {\n",
              "      background-color: #3B4455;\n",
              "      fill: #D2E3FC;\n",
              "    }\n",
              "\n",
              "    [theme=dark] .colab-df-convert:hover {\n",
              "      background-color: #434B5C;\n",
              "      box-shadow: 0px 1px 3px 1px rgba(0, 0, 0, 0.15);\n",
              "      filter: drop-shadow(0px 1px 2px rgba(0, 0, 0, 0.3));\n",
              "      fill: #FFFFFF;\n",
              "    }\n",
              "  </style>\n",
              "\n",
              "    <script>\n",
              "      const buttonEl =\n",
              "        document.querySelector('#df-5203ade2-bc00-4f9c-b0ec-86300050067c button.colab-df-convert');\n",
              "      buttonEl.style.display =\n",
              "        google.colab.kernel.accessAllowed ? 'block' : 'none';\n",
              "\n",
              "      async function convertToInteractive(key) {\n",
              "        const element = document.querySelector('#df-5203ade2-bc00-4f9c-b0ec-86300050067c');\n",
              "        const dataTable =\n",
              "          await google.colab.kernel.invokeFunction('convertToInteractive',\n",
              "                                                    [key], {});\n",
              "        if (!dataTable) return;\n",
              "\n",
              "        const docLinkHtml = 'Like what you see? Visit the ' +\n",
              "          '<a target=\"_blank\" href=https://colab.research.google.com/notebooks/data_table.ipynb>data table notebook</a>'\n",
              "          + ' to learn more about interactive tables.';\n",
              "        element.innerHTML = '';\n",
              "        dataTable['output_type'] = 'display_data';\n",
              "        await google.colab.output.renderOutput(dataTable, element);\n",
              "        const docLink = document.createElement('div');\n",
              "        docLink.innerHTML = docLinkHtml;\n",
              "        element.appendChild(docLink);\n",
              "      }\n",
              "    </script>\n",
              "  </div>\n",
              "\n",
              "\n",
              "<div id=\"df-b002aa8c-6c0a-4527-b38a-ee0c58c1c98d\">\n",
              "  <button class=\"colab-df-quickchart\" onclick=\"quickchart('df-b002aa8c-6c0a-4527-b38a-ee0c58c1c98d')\"\n",
              "            title=\"Suggest charts\"\n",
              "            style=\"display:none;\">\n",
              "\n",
              "<svg xmlns=\"http://www.w3.org/2000/svg\" height=\"24px\"viewBox=\"0 0 24 24\"\n",
              "     width=\"24px\">\n",
              "    <g>\n",
              "        <path d=\"M19 3H5c-1.1 0-2 .9-2 2v14c0 1.1.9 2 2 2h14c1.1 0 2-.9 2-2V5c0-1.1-.9-2-2-2zM9 17H7v-7h2v7zm4 0h-2V7h2v10zm4 0h-2v-4h2v4z\"/>\n",
              "    </g>\n",
              "</svg>\n",
              "  </button>\n",
              "\n",
              "<style>\n",
              "  .colab-df-quickchart {\n",
              "      --bg-color: #E8F0FE;\n",
              "      --fill-color: #1967D2;\n",
              "      --hover-bg-color: #E2EBFA;\n",
              "      --hover-fill-color: #174EA6;\n",
              "      --disabled-fill-color: #AAA;\n",
              "      --disabled-bg-color: #DDD;\n",
              "  }\n",
              "\n",
              "  [theme=dark] .colab-df-quickchart {\n",
              "      --bg-color: #3B4455;\n",
              "      --fill-color: #D2E3FC;\n",
              "      --hover-bg-color: #434B5C;\n",
              "      --hover-fill-color: #FFFFFF;\n",
              "      --disabled-bg-color: #3B4455;\n",
              "      --disabled-fill-color: #666;\n",
              "  }\n",
              "\n",
              "  .colab-df-quickchart {\n",
              "    background-color: var(--bg-color);\n",
              "    border: none;\n",
              "    border-radius: 50%;\n",
              "    cursor: pointer;\n",
              "    display: none;\n",
              "    fill: var(--fill-color);\n",
              "    height: 32px;\n",
              "    padding: 0;\n",
              "    width: 32px;\n",
              "  }\n",
              "\n",
              "  .colab-df-quickchart:hover {\n",
              "    background-color: var(--hover-bg-color);\n",
              "    box-shadow: 0 1px 2px rgba(60, 64, 67, 0.3), 0 1px 3px 1px rgba(60, 64, 67, 0.15);\n",
              "    fill: var(--button-hover-fill-color);\n",
              "  }\n",
              "\n",
              "  .colab-df-quickchart-complete:disabled,\n",
              "  .colab-df-quickchart-complete:disabled:hover {\n",
              "    background-color: var(--disabled-bg-color);\n",
              "    fill: var(--disabled-fill-color);\n",
              "    box-shadow: none;\n",
              "  }\n",
              "\n",
              "  .colab-df-spinner {\n",
              "    border: 2px solid var(--fill-color);\n",
              "    border-color: transparent;\n",
              "    border-bottom-color: var(--fill-color);\n",
              "    animation:\n",
              "      spin 1s steps(1) infinite;\n",
              "  }\n",
              "\n",
              "  @keyframes spin {\n",
              "    0% {\n",
              "      border-color: transparent;\n",
              "      border-bottom-color: var(--fill-color);\n",
              "      border-left-color: var(--fill-color);\n",
              "    }\n",
              "    20% {\n",
              "      border-color: transparent;\n",
              "      border-left-color: var(--fill-color);\n",
              "      border-top-color: var(--fill-color);\n",
              "    }\n",
              "    30% {\n",
              "      border-color: transparent;\n",
              "      border-left-color: var(--fill-color);\n",
              "      border-top-color: var(--fill-color);\n",
              "      border-right-color: var(--fill-color);\n",
              "    }\n",
              "    40% {\n",
              "      border-color: transparent;\n",
              "      border-right-color: var(--fill-color);\n",
              "      border-top-color: var(--fill-color);\n",
              "    }\n",
              "    60% {\n",
              "      border-color: transparent;\n",
              "      border-right-color: var(--fill-color);\n",
              "    }\n",
              "    80% {\n",
              "      border-color: transparent;\n",
              "      border-right-color: var(--fill-color);\n",
              "      border-bottom-color: var(--fill-color);\n",
              "    }\n",
              "    90% {\n",
              "      border-color: transparent;\n",
              "      border-bottom-color: var(--fill-color);\n",
              "    }\n",
              "  }\n",
              "</style>\n",
              "\n",
              "  <script>\n",
              "    async function quickchart(key) {\n",
              "      const quickchartButtonEl =\n",
              "        document.querySelector('#' + key + ' button');\n",
              "      quickchartButtonEl.disabled = true;  // To prevent multiple clicks.\n",
              "      quickchartButtonEl.classList.add('colab-df-spinner');\n",
              "      try {\n",
              "        const charts = await google.colab.kernel.invokeFunction(\n",
              "            'suggestCharts', [key], {});\n",
              "      } catch (error) {\n",
              "        console.error('Error during call to suggestCharts:', error);\n",
              "      }\n",
              "      quickchartButtonEl.classList.remove('colab-df-spinner');\n",
              "      quickchartButtonEl.classList.add('colab-df-quickchart-complete');\n",
              "    }\n",
              "    (() => {\n",
              "      let quickchartButtonEl =\n",
              "        document.querySelector('#df-b002aa8c-6c0a-4527-b38a-ee0c58c1c98d button');\n",
              "      quickchartButtonEl.style.display =\n",
              "        google.colab.kernel.accessAllowed ? 'block' : 'none';\n",
              "    })();\n",
              "  </script>\n",
              "</div>\n",
              "\n",
              "    </div>\n",
              "  </div>\n"
            ],
            "application/vnd.google.colaboratory.intrinsic+json": {
              "type": "dataframe",
              "summary": "{\n  \"name\": \"doenca_cardiaca\",\n  \"rows\": 14,\n  \"fields\": [\n    {\n      \"column\": \"name\",\n      \"properties\": {\n        \"dtype\": \"string\",\n        \"num_unique_values\": 14,\n        \"samples\": [\n          \"oldpeak\",\n          \"ca\",\n          \"age\"\n        ],\n        \"semantic_type\": \"\",\n        \"description\": \"\"\n      }\n    },\n    {\n      \"column\": \"role\",\n      \"properties\": {\n        \"dtype\": \"category\",\n        \"num_unique_values\": 2,\n        \"samples\": [\n          \"Target\",\n          \"Feature\"\n        ],\n        \"semantic_type\": \"\",\n        \"description\": \"\"\n      }\n    },\n    {\n      \"column\": \"type\",\n      \"properties\": {\n        \"dtype\": \"category\",\n        \"num_unique_values\": 2,\n        \"samples\": [\n          \"Categorical\",\n          \"Integer\"\n        ],\n        \"semantic_type\": \"\",\n        \"description\": \"\"\n      }\n    },\n    {\n      \"column\": \"demographic\",\n      \"properties\": {\n        \"dtype\": \"category\",\n        \"num_unique_values\": 2,\n        \"samples\": [\n          \"Sex\",\n          \"Age\"\n        ],\n        \"semantic_type\": \"\",\n        \"description\": \"\"\n      }\n    },\n    {\n      \"column\": \"description\",\n      \"properties\": {\n        \"dtype\": \"string\",\n        \"num_unique_values\": 8,\n        \"samples\": [\n          \"serum cholestoral\",\n          \"ST depression induced by exercise relative to rest\"\n        ],\n        \"semantic_type\": \"\",\n        \"description\": \"\"\n      }\n    },\n    {\n      \"column\": \"units\",\n      \"properties\": {\n        \"dtype\": \"category\",\n        \"num_unique_values\": 3,\n        \"samples\": [\n          \"years\",\n          \"mm Hg\"\n        ],\n        \"semantic_type\": \"\",\n        \"description\": \"\"\n      }\n    },\n    {\n      \"column\": \"missing_values\",\n      \"properties\": {\n        \"dtype\": \"category\",\n        \"num_unique_values\": 2,\n        \"samples\": [\n          \"yes\",\n          \"no\"\n        ],\n        \"semantic_type\": \"\",\n        \"description\": \"\"\n      }\n    }\n  ]\n}"
            }
          },
          "metadata": {},
          "execution_count": 133
        }
      ]
    },
    {
      "cell_type": "markdown",
      "source": [
        "Escolhemos três características para o nosso modelo:\n",
        "- Idade (age)\n",
        "- Nível de colesterol (chol)\n",
        "- Dor no peito (cp)"
      ],
      "metadata": {
        "id": "JBo0Thtv-8Nt"
      }
    },
    {
      "cell_type": "code",
      "source": [
        "X = doenca_cardiaca.data.features\n",
        "X = X[['age','chol','cp']]\n",
        "\n",
        "X.head()"
      ],
      "metadata": {
        "colab": {
          "base_uri": "https://localhost:8080/",
          "height": 206
        },
        "id": "NrELA63L_Z2B",
        "outputId": "91c73ce3-16fb-4ede-ccc9-838c250d5f10"
      },
      "execution_count": 134,
      "outputs": [
        {
          "output_type": "execute_result",
          "data": {
            "text/plain": [
              "   age  chol  cp\n",
              "0   63   233   1\n",
              "1   67   286   4\n",
              "2   67   229   4\n",
              "3   37   250   3\n",
              "4   41   204   2"
            ],
            "text/html": [
              "\n",
              "  <div id=\"df-dd6b7789-69a5-4d34-94bc-a863510d5620\" class=\"colab-df-container\">\n",
              "    <div>\n",
              "<style scoped>\n",
              "    .dataframe tbody tr th:only-of-type {\n",
              "        vertical-align: middle;\n",
              "    }\n",
              "\n",
              "    .dataframe tbody tr th {\n",
              "        vertical-align: top;\n",
              "    }\n",
              "\n",
              "    .dataframe thead th {\n",
              "        text-align: right;\n",
              "    }\n",
              "</style>\n",
              "<table border=\"1\" class=\"dataframe\">\n",
              "  <thead>\n",
              "    <tr style=\"text-align: right;\">\n",
              "      <th></th>\n",
              "      <th>age</th>\n",
              "      <th>chol</th>\n",
              "      <th>cp</th>\n",
              "    </tr>\n",
              "  </thead>\n",
              "  <tbody>\n",
              "    <tr>\n",
              "      <th>0</th>\n",
              "      <td>63</td>\n",
              "      <td>233</td>\n",
              "      <td>1</td>\n",
              "    </tr>\n",
              "    <tr>\n",
              "      <th>1</th>\n",
              "      <td>67</td>\n",
              "      <td>286</td>\n",
              "      <td>4</td>\n",
              "    </tr>\n",
              "    <tr>\n",
              "      <th>2</th>\n",
              "      <td>67</td>\n",
              "      <td>229</td>\n",
              "      <td>4</td>\n",
              "    </tr>\n",
              "    <tr>\n",
              "      <th>3</th>\n",
              "      <td>37</td>\n",
              "      <td>250</td>\n",
              "      <td>3</td>\n",
              "    </tr>\n",
              "    <tr>\n",
              "      <th>4</th>\n",
              "      <td>41</td>\n",
              "      <td>204</td>\n",
              "      <td>2</td>\n",
              "    </tr>\n",
              "  </tbody>\n",
              "</table>\n",
              "</div>\n",
              "    <div class=\"colab-df-buttons\">\n",
              "\n",
              "  <div class=\"colab-df-container\">\n",
              "    <button class=\"colab-df-convert\" onclick=\"convertToInteractive('df-dd6b7789-69a5-4d34-94bc-a863510d5620')\"\n",
              "            title=\"Convert this dataframe to an interactive table.\"\n",
              "            style=\"display:none;\">\n",
              "\n",
              "  <svg xmlns=\"http://www.w3.org/2000/svg\" height=\"24px\" viewBox=\"0 -960 960 960\">\n",
              "    <path d=\"M120-120v-720h720v720H120Zm60-500h600v-160H180v160Zm220 220h160v-160H400v160Zm0 220h160v-160H400v160ZM180-400h160v-160H180v160Zm440 0h160v-160H620v160ZM180-180h160v-160H180v160Zm440 0h160v-160H620v160Z\"/>\n",
              "  </svg>\n",
              "    </button>\n",
              "\n",
              "  <style>\n",
              "    .colab-df-container {\n",
              "      display:flex;\n",
              "      gap: 12px;\n",
              "    }\n",
              "\n",
              "    .colab-df-convert {\n",
              "      background-color: #E8F0FE;\n",
              "      border: none;\n",
              "      border-radius: 50%;\n",
              "      cursor: pointer;\n",
              "      display: none;\n",
              "      fill: #1967D2;\n",
              "      height: 32px;\n",
              "      padding: 0 0 0 0;\n",
              "      width: 32px;\n",
              "    }\n",
              "\n",
              "    .colab-df-convert:hover {\n",
              "      background-color: #E2EBFA;\n",
              "      box-shadow: 0px 1px 2px rgba(60, 64, 67, 0.3), 0px 1px 3px 1px rgba(60, 64, 67, 0.15);\n",
              "      fill: #174EA6;\n",
              "    }\n",
              "\n",
              "    .colab-df-buttons div {\n",
              "      margin-bottom: 4px;\n",
              "    }\n",
              "\n",
              "    [theme=dark] .colab-df-convert {\n",
              "      background-color: #3B4455;\n",
              "      fill: #D2E3FC;\n",
              "    }\n",
              "\n",
              "    [theme=dark] .colab-df-convert:hover {\n",
              "      background-color: #434B5C;\n",
              "      box-shadow: 0px 1px 3px 1px rgba(0, 0, 0, 0.15);\n",
              "      filter: drop-shadow(0px 1px 2px rgba(0, 0, 0, 0.3));\n",
              "      fill: #FFFFFF;\n",
              "    }\n",
              "  </style>\n",
              "\n",
              "    <script>\n",
              "      const buttonEl =\n",
              "        document.querySelector('#df-dd6b7789-69a5-4d34-94bc-a863510d5620 button.colab-df-convert');\n",
              "      buttonEl.style.display =\n",
              "        google.colab.kernel.accessAllowed ? 'block' : 'none';\n",
              "\n",
              "      async function convertToInteractive(key) {\n",
              "        const element = document.querySelector('#df-dd6b7789-69a5-4d34-94bc-a863510d5620');\n",
              "        const dataTable =\n",
              "          await google.colab.kernel.invokeFunction('convertToInteractive',\n",
              "                                                    [key], {});\n",
              "        if (!dataTable) return;\n",
              "\n",
              "        const docLinkHtml = 'Like what you see? Visit the ' +\n",
              "          '<a target=\"_blank\" href=https://colab.research.google.com/notebooks/data_table.ipynb>data table notebook</a>'\n",
              "          + ' to learn more about interactive tables.';\n",
              "        element.innerHTML = '';\n",
              "        dataTable['output_type'] = 'display_data';\n",
              "        await google.colab.output.renderOutput(dataTable, element);\n",
              "        const docLink = document.createElement('div');\n",
              "        docLink.innerHTML = docLinkHtml;\n",
              "        element.appendChild(docLink);\n",
              "      }\n",
              "    </script>\n",
              "  </div>\n",
              "\n",
              "\n",
              "<div id=\"df-fa1d6070-584b-4a87-9e7b-e1f36e7e5163\">\n",
              "  <button class=\"colab-df-quickchart\" onclick=\"quickchart('df-fa1d6070-584b-4a87-9e7b-e1f36e7e5163')\"\n",
              "            title=\"Suggest charts\"\n",
              "            style=\"display:none;\">\n",
              "\n",
              "<svg xmlns=\"http://www.w3.org/2000/svg\" height=\"24px\"viewBox=\"0 0 24 24\"\n",
              "     width=\"24px\">\n",
              "    <g>\n",
              "        <path d=\"M19 3H5c-1.1 0-2 .9-2 2v14c0 1.1.9 2 2 2h14c1.1 0 2-.9 2-2V5c0-1.1-.9-2-2-2zM9 17H7v-7h2v7zm4 0h-2V7h2v10zm4 0h-2v-4h2v4z\"/>\n",
              "    </g>\n",
              "</svg>\n",
              "  </button>\n",
              "\n",
              "<style>\n",
              "  .colab-df-quickchart {\n",
              "      --bg-color: #E8F0FE;\n",
              "      --fill-color: #1967D2;\n",
              "      --hover-bg-color: #E2EBFA;\n",
              "      --hover-fill-color: #174EA6;\n",
              "      --disabled-fill-color: #AAA;\n",
              "      --disabled-bg-color: #DDD;\n",
              "  }\n",
              "\n",
              "  [theme=dark] .colab-df-quickchart {\n",
              "      --bg-color: #3B4455;\n",
              "      --fill-color: #D2E3FC;\n",
              "      --hover-bg-color: #434B5C;\n",
              "      --hover-fill-color: #FFFFFF;\n",
              "      --disabled-bg-color: #3B4455;\n",
              "      --disabled-fill-color: #666;\n",
              "  }\n",
              "\n",
              "  .colab-df-quickchart {\n",
              "    background-color: var(--bg-color);\n",
              "    border: none;\n",
              "    border-radius: 50%;\n",
              "    cursor: pointer;\n",
              "    display: none;\n",
              "    fill: var(--fill-color);\n",
              "    height: 32px;\n",
              "    padding: 0;\n",
              "    width: 32px;\n",
              "  }\n",
              "\n",
              "  .colab-df-quickchart:hover {\n",
              "    background-color: var(--hover-bg-color);\n",
              "    box-shadow: 0 1px 2px rgba(60, 64, 67, 0.3), 0 1px 3px 1px rgba(60, 64, 67, 0.15);\n",
              "    fill: var(--button-hover-fill-color);\n",
              "  }\n",
              "\n",
              "  .colab-df-quickchart-complete:disabled,\n",
              "  .colab-df-quickchart-complete:disabled:hover {\n",
              "    background-color: var(--disabled-bg-color);\n",
              "    fill: var(--disabled-fill-color);\n",
              "    box-shadow: none;\n",
              "  }\n",
              "\n",
              "  .colab-df-spinner {\n",
              "    border: 2px solid var(--fill-color);\n",
              "    border-color: transparent;\n",
              "    border-bottom-color: var(--fill-color);\n",
              "    animation:\n",
              "      spin 1s steps(1) infinite;\n",
              "  }\n",
              "\n",
              "  @keyframes spin {\n",
              "    0% {\n",
              "      border-color: transparent;\n",
              "      border-bottom-color: var(--fill-color);\n",
              "      border-left-color: var(--fill-color);\n",
              "    }\n",
              "    20% {\n",
              "      border-color: transparent;\n",
              "      border-left-color: var(--fill-color);\n",
              "      border-top-color: var(--fill-color);\n",
              "    }\n",
              "    30% {\n",
              "      border-color: transparent;\n",
              "      border-left-color: var(--fill-color);\n",
              "      border-top-color: var(--fill-color);\n",
              "      border-right-color: var(--fill-color);\n",
              "    }\n",
              "    40% {\n",
              "      border-color: transparent;\n",
              "      border-right-color: var(--fill-color);\n",
              "      border-top-color: var(--fill-color);\n",
              "    }\n",
              "    60% {\n",
              "      border-color: transparent;\n",
              "      border-right-color: var(--fill-color);\n",
              "    }\n",
              "    80% {\n",
              "      border-color: transparent;\n",
              "      border-right-color: var(--fill-color);\n",
              "      border-bottom-color: var(--fill-color);\n",
              "    }\n",
              "    90% {\n",
              "      border-color: transparent;\n",
              "      border-bottom-color: var(--fill-color);\n",
              "    }\n",
              "  }\n",
              "</style>\n",
              "\n",
              "  <script>\n",
              "    async function quickchart(key) {\n",
              "      const quickchartButtonEl =\n",
              "        document.querySelector('#' + key + ' button');\n",
              "      quickchartButtonEl.disabled = true;  // To prevent multiple clicks.\n",
              "      quickchartButtonEl.classList.add('colab-df-spinner');\n",
              "      try {\n",
              "        const charts = await google.colab.kernel.invokeFunction(\n",
              "            'suggestCharts', [key], {});\n",
              "      } catch (error) {\n",
              "        console.error('Error during call to suggestCharts:', error);\n",
              "      }\n",
              "      quickchartButtonEl.classList.remove('colab-df-spinner');\n",
              "      quickchartButtonEl.classList.add('colab-df-quickchart-complete');\n",
              "    }\n",
              "    (() => {\n",
              "      let quickchartButtonEl =\n",
              "        document.querySelector('#df-fa1d6070-584b-4a87-9e7b-e1f36e7e5163 button');\n",
              "      quickchartButtonEl.style.display =\n",
              "        google.colab.kernel.accessAllowed ? 'block' : 'none';\n",
              "    })();\n",
              "  </script>\n",
              "</div>\n",
              "\n",
              "    </div>\n",
              "  </div>\n"
            ],
            "application/vnd.google.colaboratory.intrinsic+json": {
              "type": "dataframe",
              "variable_name": "X",
              "summary": "{\n  \"name\": \"X\",\n  \"rows\": 303,\n  \"fields\": [\n    {\n      \"column\": \"age\",\n      \"properties\": {\n        \"dtype\": \"number\",\n        \"std\": 9,\n        \"min\": 29,\n        \"max\": 77,\n        \"num_unique_values\": 41,\n        \"samples\": [\n          61,\n          64,\n          44\n        ],\n        \"semantic_type\": \"\",\n        \"description\": \"\"\n      }\n    },\n    {\n      \"column\": \"chol\",\n      \"properties\": {\n        \"dtype\": \"number\",\n        \"std\": 51,\n        \"min\": 126,\n        \"max\": 564,\n        \"num_unique_values\": 152,\n        \"samples\": [\n          321,\n          187,\n          174\n        ],\n        \"semantic_type\": \"\",\n        \"description\": \"\"\n      }\n    },\n    {\n      \"column\": \"cp\",\n      \"properties\": {\n        \"dtype\": \"number\",\n        \"std\": 0,\n        \"min\": 1,\n        \"max\": 4,\n        \"num_unique_values\": 4,\n        \"samples\": [\n          4,\n          2,\n          1\n        ],\n        \"semantic_type\": \"\",\n        \"description\": \"\"\n      }\n    }\n  ]\n}"
            }
          },
          "metadata": {},
          "execution_count": 134
        }
      ]
    },
    {
      "cell_type": "markdown",
      "source": [
        "Puxamos também os resultados:"
      ],
      "metadata": {
        "id": "G7N1hXXq_tgw"
      }
    },
    {
      "cell_type": "code",
      "source": [
        "Y = doenca_cardiaca.data.targets\n",
        "Y.head()"
      ],
      "metadata": {
        "colab": {
          "base_uri": "https://localhost:8080/",
          "height": 206
        },
        "id": "Morj2_99_qMC",
        "outputId": "bf57172e-6ca7-4454-93e8-0cf7772acc3f"
      },
      "execution_count": 135,
      "outputs": [
        {
          "output_type": "execute_result",
          "data": {
            "text/plain": [
              "   num\n",
              "0    0\n",
              "1    2\n",
              "2    1\n",
              "3    0\n",
              "4    0"
            ],
            "text/html": [
              "\n",
              "  <div id=\"df-a2393409-d10f-407d-9600-8c99fc7143a3\" class=\"colab-df-container\">\n",
              "    <div>\n",
              "<style scoped>\n",
              "    .dataframe tbody tr th:only-of-type {\n",
              "        vertical-align: middle;\n",
              "    }\n",
              "\n",
              "    .dataframe tbody tr th {\n",
              "        vertical-align: top;\n",
              "    }\n",
              "\n",
              "    .dataframe thead th {\n",
              "        text-align: right;\n",
              "    }\n",
              "</style>\n",
              "<table border=\"1\" class=\"dataframe\">\n",
              "  <thead>\n",
              "    <tr style=\"text-align: right;\">\n",
              "      <th></th>\n",
              "      <th>num</th>\n",
              "    </tr>\n",
              "  </thead>\n",
              "  <tbody>\n",
              "    <tr>\n",
              "      <th>0</th>\n",
              "      <td>0</td>\n",
              "    </tr>\n",
              "    <tr>\n",
              "      <th>1</th>\n",
              "      <td>2</td>\n",
              "    </tr>\n",
              "    <tr>\n",
              "      <th>2</th>\n",
              "      <td>1</td>\n",
              "    </tr>\n",
              "    <tr>\n",
              "      <th>3</th>\n",
              "      <td>0</td>\n",
              "    </tr>\n",
              "    <tr>\n",
              "      <th>4</th>\n",
              "      <td>0</td>\n",
              "    </tr>\n",
              "  </tbody>\n",
              "</table>\n",
              "</div>\n",
              "    <div class=\"colab-df-buttons\">\n",
              "\n",
              "  <div class=\"colab-df-container\">\n",
              "    <button class=\"colab-df-convert\" onclick=\"convertToInteractive('df-a2393409-d10f-407d-9600-8c99fc7143a3')\"\n",
              "            title=\"Convert this dataframe to an interactive table.\"\n",
              "            style=\"display:none;\">\n",
              "\n",
              "  <svg xmlns=\"http://www.w3.org/2000/svg\" height=\"24px\" viewBox=\"0 -960 960 960\">\n",
              "    <path d=\"M120-120v-720h720v720H120Zm60-500h600v-160H180v160Zm220 220h160v-160H400v160Zm0 220h160v-160H400v160ZM180-400h160v-160H180v160Zm440 0h160v-160H620v160ZM180-180h160v-160H180v160Zm440 0h160v-160H620v160Z\"/>\n",
              "  </svg>\n",
              "    </button>\n",
              "\n",
              "  <style>\n",
              "    .colab-df-container {\n",
              "      display:flex;\n",
              "      gap: 12px;\n",
              "    }\n",
              "\n",
              "    .colab-df-convert {\n",
              "      background-color: #E8F0FE;\n",
              "      border: none;\n",
              "      border-radius: 50%;\n",
              "      cursor: pointer;\n",
              "      display: none;\n",
              "      fill: #1967D2;\n",
              "      height: 32px;\n",
              "      padding: 0 0 0 0;\n",
              "      width: 32px;\n",
              "    }\n",
              "\n",
              "    .colab-df-convert:hover {\n",
              "      background-color: #E2EBFA;\n",
              "      box-shadow: 0px 1px 2px rgba(60, 64, 67, 0.3), 0px 1px 3px 1px rgba(60, 64, 67, 0.15);\n",
              "      fill: #174EA6;\n",
              "    }\n",
              "\n",
              "    .colab-df-buttons div {\n",
              "      margin-bottom: 4px;\n",
              "    }\n",
              "\n",
              "    [theme=dark] .colab-df-convert {\n",
              "      background-color: #3B4455;\n",
              "      fill: #D2E3FC;\n",
              "    }\n",
              "\n",
              "    [theme=dark] .colab-df-convert:hover {\n",
              "      background-color: #434B5C;\n",
              "      box-shadow: 0px 1px 3px 1px rgba(0, 0, 0, 0.15);\n",
              "      filter: drop-shadow(0px 1px 2px rgba(0, 0, 0, 0.3));\n",
              "      fill: #FFFFFF;\n",
              "    }\n",
              "  </style>\n",
              "\n",
              "    <script>\n",
              "      const buttonEl =\n",
              "        document.querySelector('#df-a2393409-d10f-407d-9600-8c99fc7143a3 button.colab-df-convert');\n",
              "      buttonEl.style.display =\n",
              "        google.colab.kernel.accessAllowed ? 'block' : 'none';\n",
              "\n",
              "      async function convertToInteractive(key) {\n",
              "        const element = document.querySelector('#df-a2393409-d10f-407d-9600-8c99fc7143a3');\n",
              "        const dataTable =\n",
              "          await google.colab.kernel.invokeFunction('convertToInteractive',\n",
              "                                                    [key], {});\n",
              "        if (!dataTable) return;\n",
              "\n",
              "        const docLinkHtml = 'Like what you see? Visit the ' +\n",
              "          '<a target=\"_blank\" href=https://colab.research.google.com/notebooks/data_table.ipynb>data table notebook</a>'\n",
              "          + ' to learn more about interactive tables.';\n",
              "        element.innerHTML = '';\n",
              "        dataTable['output_type'] = 'display_data';\n",
              "        await google.colab.output.renderOutput(dataTable, element);\n",
              "        const docLink = document.createElement('div');\n",
              "        docLink.innerHTML = docLinkHtml;\n",
              "        element.appendChild(docLink);\n",
              "      }\n",
              "    </script>\n",
              "  </div>\n",
              "\n",
              "\n",
              "<div id=\"df-a32268d9-2d3c-496e-b925-f2d4db01ba6a\">\n",
              "  <button class=\"colab-df-quickchart\" onclick=\"quickchart('df-a32268d9-2d3c-496e-b925-f2d4db01ba6a')\"\n",
              "            title=\"Suggest charts\"\n",
              "            style=\"display:none;\">\n",
              "\n",
              "<svg xmlns=\"http://www.w3.org/2000/svg\" height=\"24px\"viewBox=\"0 0 24 24\"\n",
              "     width=\"24px\">\n",
              "    <g>\n",
              "        <path d=\"M19 3H5c-1.1 0-2 .9-2 2v14c0 1.1.9 2 2 2h14c1.1 0 2-.9 2-2V5c0-1.1-.9-2-2-2zM9 17H7v-7h2v7zm4 0h-2V7h2v10zm4 0h-2v-4h2v4z\"/>\n",
              "    </g>\n",
              "</svg>\n",
              "  </button>\n",
              "\n",
              "<style>\n",
              "  .colab-df-quickchart {\n",
              "      --bg-color: #E8F0FE;\n",
              "      --fill-color: #1967D2;\n",
              "      --hover-bg-color: #E2EBFA;\n",
              "      --hover-fill-color: #174EA6;\n",
              "      --disabled-fill-color: #AAA;\n",
              "      --disabled-bg-color: #DDD;\n",
              "  }\n",
              "\n",
              "  [theme=dark] .colab-df-quickchart {\n",
              "      --bg-color: #3B4455;\n",
              "      --fill-color: #D2E3FC;\n",
              "      --hover-bg-color: #434B5C;\n",
              "      --hover-fill-color: #FFFFFF;\n",
              "      --disabled-bg-color: #3B4455;\n",
              "      --disabled-fill-color: #666;\n",
              "  }\n",
              "\n",
              "  .colab-df-quickchart {\n",
              "    background-color: var(--bg-color);\n",
              "    border: none;\n",
              "    border-radius: 50%;\n",
              "    cursor: pointer;\n",
              "    display: none;\n",
              "    fill: var(--fill-color);\n",
              "    height: 32px;\n",
              "    padding: 0;\n",
              "    width: 32px;\n",
              "  }\n",
              "\n",
              "  .colab-df-quickchart:hover {\n",
              "    background-color: var(--hover-bg-color);\n",
              "    box-shadow: 0 1px 2px rgba(60, 64, 67, 0.3), 0 1px 3px 1px rgba(60, 64, 67, 0.15);\n",
              "    fill: var(--button-hover-fill-color);\n",
              "  }\n",
              "\n",
              "  .colab-df-quickchart-complete:disabled,\n",
              "  .colab-df-quickchart-complete:disabled:hover {\n",
              "    background-color: var(--disabled-bg-color);\n",
              "    fill: var(--disabled-fill-color);\n",
              "    box-shadow: none;\n",
              "  }\n",
              "\n",
              "  .colab-df-spinner {\n",
              "    border: 2px solid var(--fill-color);\n",
              "    border-color: transparent;\n",
              "    border-bottom-color: var(--fill-color);\n",
              "    animation:\n",
              "      spin 1s steps(1) infinite;\n",
              "  }\n",
              "\n",
              "  @keyframes spin {\n",
              "    0% {\n",
              "      border-color: transparent;\n",
              "      border-bottom-color: var(--fill-color);\n",
              "      border-left-color: var(--fill-color);\n",
              "    }\n",
              "    20% {\n",
              "      border-color: transparent;\n",
              "      border-left-color: var(--fill-color);\n",
              "      border-top-color: var(--fill-color);\n",
              "    }\n",
              "    30% {\n",
              "      border-color: transparent;\n",
              "      border-left-color: var(--fill-color);\n",
              "      border-top-color: var(--fill-color);\n",
              "      border-right-color: var(--fill-color);\n",
              "    }\n",
              "    40% {\n",
              "      border-color: transparent;\n",
              "      border-right-color: var(--fill-color);\n",
              "      border-top-color: var(--fill-color);\n",
              "    }\n",
              "    60% {\n",
              "      border-color: transparent;\n",
              "      border-right-color: var(--fill-color);\n",
              "    }\n",
              "    80% {\n",
              "      border-color: transparent;\n",
              "      border-right-color: var(--fill-color);\n",
              "      border-bottom-color: var(--fill-color);\n",
              "    }\n",
              "    90% {\n",
              "      border-color: transparent;\n",
              "      border-bottom-color: var(--fill-color);\n",
              "    }\n",
              "  }\n",
              "</style>\n",
              "\n",
              "  <script>\n",
              "    async function quickchart(key) {\n",
              "      const quickchartButtonEl =\n",
              "        document.querySelector('#' + key + ' button');\n",
              "      quickchartButtonEl.disabled = true;  // To prevent multiple clicks.\n",
              "      quickchartButtonEl.classList.add('colab-df-spinner');\n",
              "      try {\n",
              "        const charts = await google.colab.kernel.invokeFunction(\n",
              "            'suggestCharts', [key], {});\n",
              "      } catch (error) {\n",
              "        console.error('Error during call to suggestCharts:', error);\n",
              "      }\n",
              "      quickchartButtonEl.classList.remove('colab-df-spinner');\n",
              "      quickchartButtonEl.classList.add('colab-df-quickchart-complete');\n",
              "    }\n",
              "    (() => {\n",
              "      let quickchartButtonEl =\n",
              "        document.querySelector('#df-a32268d9-2d3c-496e-b925-f2d4db01ba6a button');\n",
              "      quickchartButtonEl.style.display =\n",
              "        google.colab.kernel.accessAllowed ? 'block' : 'none';\n",
              "    })();\n",
              "  </script>\n",
              "</div>\n",
              "\n",
              "    </div>\n",
              "  </div>\n"
            ],
            "application/vnd.google.colaboratory.intrinsic+json": {
              "type": "dataframe",
              "variable_name": "Y",
              "summary": "{\n  \"name\": \"Y\",\n  \"rows\": 303,\n  \"fields\": [\n    {\n      \"column\": \"num\",\n      \"properties\": {\n        \"dtype\": \"number\",\n        \"std\": 1,\n        \"min\": 0,\n        \"max\": 4,\n        \"num_unique_values\": 5,\n        \"samples\": [\n          2,\n          4,\n          1\n        ],\n        \"semantic_type\": \"\",\n        \"description\": \"\"\n      }\n    }\n  ]\n}"
            }
          },
          "metadata": {},
          "execution_count": 135
        }
      ]
    },
    {
      "cell_type": "markdown",
      "source": [
        "Verificando os valores existentes no target, encontramos:"
      ],
      "metadata": {
        "id": "NWDTSh0u_0CO"
      }
    },
    {
      "cell_type": "code",
      "source": [
        "Y['num'].unique()"
      ],
      "metadata": {
        "colab": {
          "base_uri": "https://localhost:8080/"
        },
        "id": "K28waXyF_3sy",
        "outputId": "9a0a5265-f2bf-4c10-f33d-65e03c676480"
      },
      "execution_count": 136,
      "outputs": [
        {
          "output_type": "execute_result",
          "data": {
            "text/plain": [
              "array([0, 2, 1, 3, 4])"
            ]
          },
          "metadata": {},
          "execution_count": 136
        }
      ]
    },
    {
      "cell_type": "markdown",
      "source": [
        "Podemos converter os valores para uma forma binária, para caso teve o problema ou não"
      ],
      "metadata": {
        "id": "Xe_u0hYK_-xc"
      }
    },
    {
      "cell_type": "code",
      "source": [
        "Y = (Y>0)*1\n",
        "Y.head()"
      ],
      "metadata": {
        "colab": {
          "base_uri": "https://localhost:8080/",
          "height": 206
        },
        "id": "ivIlNjJ3AGsu",
        "outputId": "9492f4b3-a00d-498c-b0de-31ae1ad82285"
      },
      "execution_count": 137,
      "outputs": [
        {
          "output_type": "execute_result",
          "data": {
            "text/plain": [
              "   num\n",
              "0    0\n",
              "1    1\n",
              "2    1\n",
              "3    0\n",
              "4    0"
            ],
            "text/html": [
              "\n",
              "  <div id=\"df-41f8b409-9798-4c61-ac8a-25a48d373ee9\" class=\"colab-df-container\">\n",
              "    <div>\n",
              "<style scoped>\n",
              "    .dataframe tbody tr th:only-of-type {\n",
              "        vertical-align: middle;\n",
              "    }\n",
              "\n",
              "    .dataframe tbody tr th {\n",
              "        vertical-align: top;\n",
              "    }\n",
              "\n",
              "    .dataframe thead th {\n",
              "        text-align: right;\n",
              "    }\n",
              "</style>\n",
              "<table border=\"1\" class=\"dataframe\">\n",
              "  <thead>\n",
              "    <tr style=\"text-align: right;\">\n",
              "      <th></th>\n",
              "      <th>num</th>\n",
              "    </tr>\n",
              "  </thead>\n",
              "  <tbody>\n",
              "    <tr>\n",
              "      <th>0</th>\n",
              "      <td>0</td>\n",
              "    </tr>\n",
              "    <tr>\n",
              "      <th>1</th>\n",
              "      <td>1</td>\n",
              "    </tr>\n",
              "    <tr>\n",
              "      <th>2</th>\n",
              "      <td>1</td>\n",
              "    </tr>\n",
              "    <tr>\n",
              "      <th>3</th>\n",
              "      <td>0</td>\n",
              "    </tr>\n",
              "    <tr>\n",
              "      <th>4</th>\n",
              "      <td>0</td>\n",
              "    </tr>\n",
              "  </tbody>\n",
              "</table>\n",
              "</div>\n",
              "    <div class=\"colab-df-buttons\">\n",
              "\n",
              "  <div class=\"colab-df-container\">\n",
              "    <button class=\"colab-df-convert\" onclick=\"convertToInteractive('df-41f8b409-9798-4c61-ac8a-25a48d373ee9')\"\n",
              "            title=\"Convert this dataframe to an interactive table.\"\n",
              "            style=\"display:none;\">\n",
              "\n",
              "  <svg xmlns=\"http://www.w3.org/2000/svg\" height=\"24px\" viewBox=\"0 -960 960 960\">\n",
              "    <path d=\"M120-120v-720h720v720H120Zm60-500h600v-160H180v160Zm220 220h160v-160H400v160Zm0 220h160v-160H400v160ZM180-400h160v-160H180v160Zm440 0h160v-160H620v160ZM180-180h160v-160H180v160Zm440 0h160v-160H620v160Z\"/>\n",
              "  </svg>\n",
              "    </button>\n",
              "\n",
              "  <style>\n",
              "    .colab-df-container {\n",
              "      display:flex;\n",
              "      gap: 12px;\n",
              "    }\n",
              "\n",
              "    .colab-df-convert {\n",
              "      background-color: #E8F0FE;\n",
              "      border: none;\n",
              "      border-radius: 50%;\n",
              "      cursor: pointer;\n",
              "      display: none;\n",
              "      fill: #1967D2;\n",
              "      height: 32px;\n",
              "      padding: 0 0 0 0;\n",
              "      width: 32px;\n",
              "    }\n",
              "\n",
              "    .colab-df-convert:hover {\n",
              "      background-color: #E2EBFA;\n",
              "      box-shadow: 0px 1px 2px rgba(60, 64, 67, 0.3), 0px 1px 3px 1px rgba(60, 64, 67, 0.15);\n",
              "      fill: #174EA6;\n",
              "    }\n",
              "\n",
              "    .colab-df-buttons div {\n",
              "      margin-bottom: 4px;\n",
              "    }\n",
              "\n",
              "    [theme=dark] .colab-df-convert {\n",
              "      background-color: #3B4455;\n",
              "      fill: #D2E3FC;\n",
              "    }\n",
              "\n",
              "    [theme=dark] .colab-df-convert:hover {\n",
              "      background-color: #434B5C;\n",
              "      box-shadow: 0px 1px 3px 1px rgba(0, 0, 0, 0.15);\n",
              "      filter: drop-shadow(0px 1px 2px rgba(0, 0, 0, 0.3));\n",
              "      fill: #FFFFFF;\n",
              "    }\n",
              "  </style>\n",
              "\n",
              "    <script>\n",
              "      const buttonEl =\n",
              "        document.querySelector('#df-41f8b409-9798-4c61-ac8a-25a48d373ee9 button.colab-df-convert');\n",
              "      buttonEl.style.display =\n",
              "        google.colab.kernel.accessAllowed ? 'block' : 'none';\n",
              "\n",
              "      async function convertToInteractive(key) {\n",
              "        const element = document.querySelector('#df-41f8b409-9798-4c61-ac8a-25a48d373ee9');\n",
              "        const dataTable =\n",
              "          await google.colab.kernel.invokeFunction('convertToInteractive',\n",
              "                                                    [key], {});\n",
              "        if (!dataTable) return;\n",
              "\n",
              "        const docLinkHtml = 'Like what you see? Visit the ' +\n",
              "          '<a target=\"_blank\" href=https://colab.research.google.com/notebooks/data_table.ipynb>data table notebook</a>'\n",
              "          + ' to learn more about interactive tables.';\n",
              "        element.innerHTML = '';\n",
              "        dataTable['output_type'] = 'display_data';\n",
              "        await google.colab.output.renderOutput(dataTable, element);\n",
              "        const docLink = document.createElement('div');\n",
              "        docLink.innerHTML = docLinkHtml;\n",
              "        element.appendChild(docLink);\n",
              "      }\n",
              "    </script>\n",
              "  </div>\n",
              "\n",
              "\n",
              "<div id=\"df-17dd9c84-b499-4d64-8c93-bee07f5cf326\">\n",
              "  <button class=\"colab-df-quickchart\" onclick=\"quickchart('df-17dd9c84-b499-4d64-8c93-bee07f5cf326')\"\n",
              "            title=\"Suggest charts\"\n",
              "            style=\"display:none;\">\n",
              "\n",
              "<svg xmlns=\"http://www.w3.org/2000/svg\" height=\"24px\"viewBox=\"0 0 24 24\"\n",
              "     width=\"24px\">\n",
              "    <g>\n",
              "        <path d=\"M19 3H5c-1.1 0-2 .9-2 2v14c0 1.1.9 2 2 2h14c1.1 0 2-.9 2-2V5c0-1.1-.9-2-2-2zM9 17H7v-7h2v7zm4 0h-2V7h2v10zm4 0h-2v-4h2v4z\"/>\n",
              "    </g>\n",
              "</svg>\n",
              "  </button>\n",
              "\n",
              "<style>\n",
              "  .colab-df-quickchart {\n",
              "      --bg-color: #E8F0FE;\n",
              "      --fill-color: #1967D2;\n",
              "      --hover-bg-color: #E2EBFA;\n",
              "      --hover-fill-color: #174EA6;\n",
              "      --disabled-fill-color: #AAA;\n",
              "      --disabled-bg-color: #DDD;\n",
              "  }\n",
              "\n",
              "  [theme=dark] .colab-df-quickchart {\n",
              "      --bg-color: #3B4455;\n",
              "      --fill-color: #D2E3FC;\n",
              "      --hover-bg-color: #434B5C;\n",
              "      --hover-fill-color: #FFFFFF;\n",
              "      --disabled-bg-color: #3B4455;\n",
              "      --disabled-fill-color: #666;\n",
              "  }\n",
              "\n",
              "  .colab-df-quickchart {\n",
              "    background-color: var(--bg-color);\n",
              "    border: none;\n",
              "    border-radius: 50%;\n",
              "    cursor: pointer;\n",
              "    display: none;\n",
              "    fill: var(--fill-color);\n",
              "    height: 32px;\n",
              "    padding: 0;\n",
              "    width: 32px;\n",
              "  }\n",
              "\n",
              "  .colab-df-quickchart:hover {\n",
              "    background-color: var(--hover-bg-color);\n",
              "    box-shadow: 0 1px 2px rgba(60, 64, 67, 0.3), 0 1px 3px 1px rgba(60, 64, 67, 0.15);\n",
              "    fill: var(--button-hover-fill-color);\n",
              "  }\n",
              "\n",
              "  .colab-df-quickchart-complete:disabled,\n",
              "  .colab-df-quickchart-complete:disabled:hover {\n",
              "    background-color: var(--disabled-bg-color);\n",
              "    fill: var(--disabled-fill-color);\n",
              "    box-shadow: none;\n",
              "  }\n",
              "\n",
              "  .colab-df-spinner {\n",
              "    border: 2px solid var(--fill-color);\n",
              "    border-color: transparent;\n",
              "    border-bottom-color: var(--fill-color);\n",
              "    animation:\n",
              "      spin 1s steps(1) infinite;\n",
              "  }\n",
              "\n",
              "  @keyframes spin {\n",
              "    0% {\n",
              "      border-color: transparent;\n",
              "      border-bottom-color: var(--fill-color);\n",
              "      border-left-color: var(--fill-color);\n",
              "    }\n",
              "    20% {\n",
              "      border-color: transparent;\n",
              "      border-left-color: var(--fill-color);\n",
              "      border-top-color: var(--fill-color);\n",
              "    }\n",
              "    30% {\n",
              "      border-color: transparent;\n",
              "      border-left-color: var(--fill-color);\n",
              "      border-top-color: var(--fill-color);\n",
              "      border-right-color: var(--fill-color);\n",
              "    }\n",
              "    40% {\n",
              "      border-color: transparent;\n",
              "      border-right-color: var(--fill-color);\n",
              "      border-top-color: var(--fill-color);\n",
              "    }\n",
              "    60% {\n",
              "      border-color: transparent;\n",
              "      border-right-color: var(--fill-color);\n",
              "    }\n",
              "    80% {\n",
              "      border-color: transparent;\n",
              "      border-right-color: var(--fill-color);\n",
              "      border-bottom-color: var(--fill-color);\n",
              "    }\n",
              "    90% {\n",
              "      border-color: transparent;\n",
              "      border-bottom-color: var(--fill-color);\n",
              "    }\n",
              "  }\n",
              "</style>\n",
              "\n",
              "  <script>\n",
              "    async function quickchart(key) {\n",
              "      const quickchartButtonEl =\n",
              "        document.querySelector('#' + key + ' button');\n",
              "      quickchartButtonEl.disabled = true;  // To prevent multiple clicks.\n",
              "      quickchartButtonEl.classList.add('colab-df-spinner');\n",
              "      try {\n",
              "        const charts = await google.colab.kernel.invokeFunction(\n",
              "            'suggestCharts', [key], {});\n",
              "      } catch (error) {\n",
              "        console.error('Error during call to suggestCharts:', error);\n",
              "      }\n",
              "      quickchartButtonEl.classList.remove('colab-df-spinner');\n",
              "      quickchartButtonEl.classList.add('colab-df-quickchart-complete');\n",
              "    }\n",
              "    (() => {\n",
              "      let quickchartButtonEl =\n",
              "        document.querySelector('#df-17dd9c84-b499-4d64-8c93-bee07f5cf326 button');\n",
              "      quickchartButtonEl.style.display =\n",
              "        google.colab.kernel.accessAllowed ? 'block' : 'none';\n",
              "    })();\n",
              "  </script>\n",
              "</div>\n",
              "\n",
              "    </div>\n",
              "  </div>\n"
            ],
            "application/vnd.google.colaboratory.intrinsic+json": {
              "type": "dataframe",
              "variable_name": "Y",
              "summary": "{\n  \"name\": \"Y\",\n  \"rows\": 303,\n  \"fields\": [\n    {\n      \"column\": \"num\",\n      \"properties\": {\n        \"dtype\": \"number\",\n        \"std\": 0,\n        \"min\": 0,\n        \"max\": 1,\n        \"num_unique_values\": 2,\n        \"samples\": [\n          1,\n          0\n        ],\n        \"semantic_type\": \"\",\n        \"description\": \"\"\n      }\n    }\n  ]\n}"
            }
          },
          "metadata": {},
          "execution_count": 137
        }
      ]
    },
    {
      "cell_type": "markdown",
      "source": [
        "E assim construímos o nosso conjunto de dados"
      ],
      "metadata": {
        "id": "jR6ix9R3BV3y"
      }
    },
    {
      "cell_type": "code",
      "source": [
        "dados = X.copy()\n",
        "dados['y'] = Y\n",
        "dados.head()"
      ],
      "metadata": {
        "colab": {
          "base_uri": "https://localhost:8080/",
          "height": 206
        },
        "id": "a1-7Pd-6BYvl",
        "outputId": "d743cbab-982b-4d52-a3b5-e3ee8b851850"
      },
      "execution_count": 138,
      "outputs": [
        {
          "output_type": "execute_result",
          "data": {
            "text/plain": [
              "   age  chol  cp  y\n",
              "0   63   233   1  0\n",
              "1   67   286   4  1\n",
              "2   67   229   4  1\n",
              "3   37   250   3  0\n",
              "4   41   204   2  0"
            ],
            "text/html": [
              "\n",
              "  <div id=\"df-ea60efe9-5ff0-4db7-bb28-53a4cb22368b\" class=\"colab-df-container\">\n",
              "    <div>\n",
              "<style scoped>\n",
              "    .dataframe tbody tr th:only-of-type {\n",
              "        vertical-align: middle;\n",
              "    }\n",
              "\n",
              "    .dataframe tbody tr th {\n",
              "        vertical-align: top;\n",
              "    }\n",
              "\n",
              "    .dataframe thead th {\n",
              "        text-align: right;\n",
              "    }\n",
              "</style>\n",
              "<table border=\"1\" class=\"dataframe\">\n",
              "  <thead>\n",
              "    <tr style=\"text-align: right;\">\n",
              "      <th></th>\n",
              "      <th>age</th>\n",
              "      <th>chol</th>\n",
              "      <th>cp</th>\n",
              "      <th>y</th>\n",
              "    </tr>\n",
              "  </thead>\n",
              "  <tbody>\n",
              "    <tr>\n",
              "      <th>0</th>\n",
              "      <td>63</td>\n",
              "      <td>233</td>\n",
              "      <td>1</td>\n",
              "      <td>0</td>\n",
              "    </tr>\n",
              "    <tr>\n",
              "      <th>1</th>\n",
              "      <td>67</td>\n",
              "      <td>286</td>\n",
              "      <td>4</td>\n",
              "      <td>1</td>\n",
              "    </tr>\n",
              "    <tr>\n",
              "      <th>2</th>\n",
              "      <td>67</td>\n",
              "      <td>229</td>\n",
              "      <td>4</td>\n",
              "      <td>1</td>\n",
              "    </tr>\n",
              "    <tr>\n",
              "      <th>3</th>\n",
              "      <td>37</td>\n",
              "      <td>250</td>\n",
              "      <td>3</td>\n",
              "      <td>0</td>\n",
              "    </tr>\n",
              "    <tr>\n",
              "      <th>4</th>\n",
              "      <td>41</td>\n",
              "      <td>204</td>\n",
              "      <td>2</td>\n",
              "      <td>0</td>\n",
              "    </tr>\n",
              "  </tbody>\n",
              "</table>\n",
              "</div>\n",
              "    <div class=\"colab-df-buttons\">\n",
              "\n",
              "  <div class=\"colab-df-container\">\n",
              "    <button class=\"colab-df-convert\" onclick=\"convertToInteractive('df-ea60efe9-5ff0-4db7-bb28-53a4cb22368b')\"\n",
              "            title=\"Convert this dataframe to an interactive table.\"\n",
              "            style=\"display:none;\">\n",
              "\n",
              "  <svg xmlns=\"http://www.w3.org/2000/svg\" height=\"24px\" viewBox=\"0 -960 960 960\">\n",
              "    <path d=\"M120-120v-720h720v720H120Zm60-500h600v-160H180v160Zm220 220h160v-160H400v160Zm0 220h160v-160H400v160ZM180-400h160v-160H180v160Zm440 0h160v-160H620v160ZM180-180h160v-160H180v160Zm440 0h160v-160H620v160Z\"/>\n",
              "  </svg>\n",
              "    </button>\n",
              "\n",
              "  <style>\n",
              "    .colab-df-container {\n",
              "      display:flex;\n",
              "      gap: 12px;\n",
              "    }\n",
              "\n",
              "    .colab-df-convert {\n",
              "      background-color: #E8F0FE;\n",
              "      border: none;\n",
              "      border-radius: 50%;\n",
              "      cursor: pointer;\n",
              "      display: none;\n",
              "      fill: #1967D2;\n",
              "      height: 32px;\n",
              "      padding: 0 0 0 0;\n",
              "      width: 32px;\n",
              "    }\n",
              "\n",
              "    .colab-df-convert:hover {\n",
              "      background-color: #E2EBFA;\n",
              "      box-shadow: 0px 1px 2px rgba(60, 64, 67, 0.3), 0px 1px 3px 1px rgba(60, 64, 67, 0.15);\n",
              "      fill: #174EA6;\n",
              "    }\n",
              "\n",
              "    .colab-df-buttons div {\n",
              "      margin-bottom: 4px;\n",
              "    }\n",
              "\n",
              "    [theme=dark] .colab-df-convert {\n",
              "      background-color: #3B4455;\n",
              "      fill: #D2E3FC;\n",
              "    }\n",
              "\n",
              "    [theme=dark] .colab-df-convert:hover {\n",
              "      background-color: #434B5C;\n",
              "      box-shadow: 0px 1px 3px 1px rgba(0, 0, 0, 0.15);\n",
              "      filter: drop-shadow(0px 1px 2px rgba(0, 0, 0, 0.3));\n",
              "      fill: #FFFFFF;\n",
              "    }\n",
              "  </style>\n",
              "\n",
              "    <script>\n",
              "      const buttonEl =\n",
              "        document.querySelector('#df-ea60efe9-5ff0-4db7-bb28-53a4cb22368b button.colab-df-convert');\n",
              "      buttonEl.style.display =\n",
              "        google.colab.kernel.accessAllowed ? 'block' : 'none';\n",
              "\n",
              "      async function convertToInteractive(key) {\n",
              "        const element = document.querySelector('#df-ea60efe9-5ff0-4db7-bb28-53a4cb22368b');\n",
              "        const dataTable =\n",
              "          await google.colab.kernel.invokeFunction('convertToInteractive',\n",
              "                                                    [key], {});\n",
              "        if (!dataTable) return;\n",
              "\n",
              "        const docLinkHtml = 'Like what you see? Visit the ' +\n",
              "          '<a target=\"_blank\" href=https://colab.research.google.com/notebooks/data_table.ipynb>data table notebook</a>'\n",
              "          + ' to learn more about interactive tables.';\n",
              "        element.innerHTML = '';\n",
              "        dataTable['output_type'] = 'display_data';\n",
              "        await google.colab.output.renderOutput(dataTable, element);\n",
              "        const docLink = document.createElement('div');\n",
              "        docLink.innerHTML = docLinkHtml;\n",
              "        element.appendChild(docLink);\n",
              "      }\n",
              "    </script>\n",
              "  </div>\n",
              "\n",
              "\n",
              "<div id=\"df-f9cf87e5-4a24-4904-b9e2-1f5aed701dce\">\n",
              "  <button class=\"colab-df-quickchart\" onclick=\"quickchart('df-f9cf87e5-4a24-4904-b9e2-1f5aed701dce')\"\n",
              "            title=\"Suggest charts\"\n",
              "            style=\"display:none;\">\n",
              "\n",
              "<svg xmlns=\"http://www.w3.org/2000/svg\" height=\"24px\"viewBox=\"0 0 24 24\"\n",
              "     width=\"24px\">\n",
              "    <g>\n",
              "        <path d=\"M19 3H5c-1.1 0-2 .9-2 2v14c0 1.1.9 2 2 2h14c1.1 0 2-.9 2-2V5c0-1.1-.9-2-2-2zM9 17H7v-7h2v7zm4 0h-2V7h2v10zm4 0h-2v-4h2v4z\"/>\n",
              "    </g>\n",
              "</svg>\n",
              "  </button>\n",
              "\n",
              "<style>\n",
              "  .colab-df-quickchart {\n",
              "      --bg-color: #E8F0FE;\n",
              "      --fill-color: #1967D2;\n",
              "      --hover-bg-color: #E2EBFA;\n",
              "      --hover-fill-color: #174EA6;\n",
              "      --disabled-fill-color: #AAA;\n",
              "      --disabled-bg-color: #DDD;\n",
              "  }\n",
              "\n",
              "  [theme=dark] .colab-df-quickchart {\n",
              "      --bg-color: #3B4455;\n",
              "      --fill-color: #D2E3FC;\n",
              "      --hover-bg-color: #434B5C;\n",
              "      --hover-fill-color: #FFFFFF;\n",
              "      --disabled-bg-color: #3B4455;\n",
              "      --disabled-fill-color: #666;\n",
              "  }\n",
              "\n",
              "  .colab-df-quickchart {\n",
              "    background-color: var(--bg-color);\n",
              "    border: none;\n",
              "    border-radius: 50%;\n",
              "    cursor: pointer;\n",
              "    display: none;\n",
              "    fill: var(--fill-color);\n",
              "    height: 32px;\n",
              "    padding: 0;\n",
              "    width: 32px;\n",
              "  }\n",
              "\n",
              "  .colab-df-quickchart:hover {\n",
              "    background-color: var(--hover-bg-color);\n",
              "    box-shadow: 0 1px 2px rgba(60, 64, 67, 0.3), 0 1px 3px 1px rgba(60, 64, 67, 0.15);\n",
              "    fill: var(--button-hover-fill-color);\n",
              "  }\n",
              "\n",
              "  .colab-df-quickchart-complete:disabled,\n",
              "  .colab-df-quickchart-complete:disabled:hover {\n",
              "    background-color: var(--disabled-bg-color);\n",
              "    fill: var(--disabled-fill-color);\n",
              "    box-shadow: none;\n",
              "  }\n",
              "\n",
              "  .colab-df-spinner {\n",
              "    border: 2px solid var(--fill-color);\n",
              "    border-color: transparent;\n",
              "    border-bottom-color: var(--fill-color);\n",
              "    animation:\n",
              "      spin 1s steps(1) infinite;\n",
              "  }\n",
              "\n",
              "  @keyframes spin {\n",
              "    0% {\n",
              "      border-color: transparent;\n",
              "      border-bottom-color: var(--fill-color);\n",
              "      border-left-color: var(--fill-color);\n",
              "    }\n",
              "    20% {\n",
              "      border-color: transparent;\n",
              "      border-left-color: var(--fill-color);\n",
              "      border-top-color: var(--fill-color);\n",
              "    }\n",
              "    30% {\n",
              "      border-color: transparent;\n",
              "      border-left-color: var(--fill-color);\n",
              "      border-top-color: var(--fill-color);\n",
              "      border-right-color: var(--fill-color);\n",
              "    }\n",
              "    40% {\n",
              "      border-color: transparent;\n",
              "      border-right-color: var(--fill-color);\n",
              "      border-top-color: var(--fill-color);\n",
              "    }\n",
              "    60% {\n",
              "      border-color: transparent;\n",
              "      border-right-color: var(--fill-color);\n",
              "    }\n",
              "    80% {\n",
              "      border-color: transparent;\n",
              "      border-right-color: var(--fill-color);\n",
              "      border-bottom-color: var(--fill-color);\n",
              "    }\n",
              "    90% {\n",
              "      border-color: transparent;\n",
              "      border-bottom-color: var(--fill-color);\n",
              "    }\n",
              "  }\n",
              "</style>\n",
              "\n",
              "  <script>\n",
              "    async function quickchart(key) {\n",
              "      const quickchartButtonEl =\n",
              "        document.querySelector('#' + key + ' button');\n",
              "      quickchartButtonEl.disabled = true;  // To prevent multiple clicks.\n",
              "      quickchartButtonEl.classList.add('colab-df-spinner');\n",
              "      try {\n",
              "        const charts = await google.colab.kernel.invokeFunction(\n",
              "            'suggestCharts', [key], {});\n",
              "      } catch (error) {\n",
              "        console.error('Error during call to suggestCharts:', error);\n",
              "      }\n",
              "      quickchartButtonEl.classList.remove('colab-df-spinner');\n",
              "      quickchartButtonEl.classList.add('colab-df-quickchart-complete');\n",
              "    }\n",
              "    (() => {\n",
              "      let quickchartButtonEl =\n",
              "        document.querySelector('#df-f9cf87e5-4a24-4904-b9e2-1f5aed701dce button');\n",
              "      quickchartButtonEl.style.display =\n",
              "        google.colab.kernel.accessAllowed ? 'block' : 'none';\n",
              "    })();\n",
              "  </script>\n",
              "</div>\n",
              "\n",
              "    </div>\n",
              "  </div>\n"
            ],
            "application/vnd.google.colaboratory.intrinsic+json": {
              "type": "dataframe",
              "variable_name": "dados",
              "summary": "{\n  \"name\": \"dados\",\n  \"rows\": 303,\n  \"fields\": [\n    {\n      \"column\": \"age\",\n      \"properties\": {\n        \"dtype\": \"number\",\n        \"std\": 9,\n        \"min\": 29,\n        \"max\": 77,\n        \"num_unique_values\": 41,\n        \"samples\": [\n          61,\n          64,\n          44\n        ],\n        \"semantic_type\": \"\",\n        \"description\": \"\"\n      }\n    },\n    {\n      \"column\": \"chol\",\n      \"properties\": {\n        \"dtype\": \"number\",\n        \"std\": 51,\n        \"min\": 126,\n        \"max\": 564,\n        \"num_unique_values\": 152,\n        \"samples\": [\n          321,\n          187,\n          174\n        ],\n        \"semantic_type\": \"\",\n        \"description\": \"\"\n      }\n    },\n    {\n      \"column\": \"cp\",\n      \"properties\": {\n        \"dtype\": \"number\",\n        \"std\": 0,\n        \"min\": 1,\n        \"max\": 4,\n        \"num_unique_values\": 4,\n        \"samples\": [\n          4,\n          2,\n          1\n        ],\n        \"semantic_type\": \"\",\n        \"description\": \"\"\n      }\n    },\n    {\n      \"column\": \"y\",\n      \"properties\": {\n        \"dtype\": \"number\",\n        \"std\": 0,\n        \"min\": 0,\n        \"max\": 1,\n        \"num_unique_values\": 2,\n        \"samples\": [\n          1,\n          0\n        ],\n        \"semantic_type\": \"\",\n        \"description\": \"\"\n      }\n    }\n  ]\n}"
            }
          },
          "metadata": {},
          "execution_count": 138
        }
      ]
    },
    {
      "cell_type": "markdown",
      "source": [
        "### Análise Exploratória\n",
        "Com os dados tratados, podemos fazer uma análise preliminar dos dados"
      ],
      "metadata": {
        "id": "FagHlfiCAR9b"
      }
    },
    {
      "cell_type": "code",
      "source": [
        "import seaborn as sns\n",
        "import matplotlib.pyplot as plt"
      ],
      "metadata": {
        "id": "vyaj_eEXBEJM"
      },
      "execution_count": 139,
      "outputs": []
    },
    {
      "cell_type": "markdown",
      "source": [
        "Primeiramente, veremos a relação entre idades dos pacientes e se tiveram doença cardíaca (y = 1) ou não (y = 0)."
      ],
      "metadata": {
        "id": "IoXgayUfBIlh"
      }
    },
    {
      "cell_type": "code",
      "source": [
        "sns.boxplot(x='y', y='age', hue='y', data=dados)\n",
        "plt.title('Idade X Doença cardíaca')\n",
        "plt.ylim(0, 100)\n",
        "plt.show()"
      ],
      "metadata": {
        "colab": {
          "base_uri": "https://localhost:8080/",
          "height": 472
        },
        "id": "OmoLaD42BPSj",
        "outputId": "541b0cd1-ebde-4831-d21d-a3a30e8b95e5"
      },
      "execution_count": 140,
      "outputs": [
        {
          "output_type": "display_data",
          "data": {
            "text/plain": [
              "<Figure size 640x480 with 1 Axes>"
            ],
            "image/png": "[encoded data removed]"
          },
          "metadata": {}
        }
      ]
    },
    {
      "cell_type": "markdown",
      "source": [
        "O mesmo pode ser feito para o nível de colesterol"
      ],
      "metadata": {
        "id": "IxMyTTiGBpia"
      }
    },
    {
      "cell_type": "code",
      "source": [
        "sns.boxplot(x='y', y='chol', hue='y', data=dados)\n",
        "plt.title('Colesterol X Doença cardíaca')\n",
        "plt.ylim(0,600)\n",
        "plt.show()"
      ],
      "metadata": {
        "colab": {
          "base_uri": "https://localhost:8080/",
          "height": 472
        },
        "id": "nAusxJAkBsIz",
        "outputId": "29c3a644-c8ab-4903-b26e-906c5ccf3f04"
      },
      "execution_count": 141,
      "outputs": [
        {
          "output_type": "display_data",
          "data": {
            "text/plain": [
              "<Figure size 640x480 with 1 Axes>"
            ],
            "image/png": "[encoded data removed]"
          },
          "metadata": {}
        }
      ]
    },
    {
      "cell_type": "markdown",
      "source": [
        "Com os dados em mãos, podemos analisar a correlação das variáveis"
      ],
      "metadata": {
        "id": "x27TJa0XB3GQ"
      }
    },
    {
      "cell_type": "code",
      "source": [
        "corr = dados[['age','chol','y']].corr()\n",
        "\n",
        "sns.heatmap(corr,cmap = 'YlOrBr',annot=True)"
      ],
      "metadata": {
        "colab": {
          "base_uri": "https://localhost:8080/",
          "height": 453
        },
        "id": "9jFsD5NDB5zB",
        "outputId": "4634b03e-0289-4f3e-f4d3-ae392cfbdfd4"
      },
      "execution_count": 142,
      "outputs": [
        {
          "output_type": "execute_result",
          "data": {
            "text/plain": [
              "<Axes: >"
            ]
          },
          "metadata": {},
          "execution_count": 142
        },
        {
          "output_type": "display_data",
          "data": {
            "text/plain": [
              "<Figure size 640x480 with 2 Axes>"
            ],
            "image/png": "[encoded data removed]"
          },
          "metadata": {}
        }
      ]
    },
    {
      "cell_type": "markdown",
      "source": [
        "### Preparando os resultados\n",
        "Agora, podemos transformar `cp` em variáveis dummies, multiplicando as colunas para os tipos diferentes"
      ],
      "metadata": {
        "id": "_Qz3TnFBCwqC"
      }
    },
    {
      "cell_type": "code",
      "source": [
        "import pandas as pd\n",
        "df_cp = pd.get_dummies(X['cp'], prefix='cp', dtype=int)\n",
        "df_cp.head()"
      ],
      "metadata": {
        "colab": {
          "base_uri": "https://localhost:8080/",
          "height": 206
        },
        "id": "H_ZJZFoHC77_",
        "outputId": "b7f5383f-31d3-4d5b-e215-a5345490ad13"
      },
      "execution_count": 143,
      "outputs": [
        {
          "output_type": "execute_result",
          "data": {
            "text/plain": [
              "   cp_1  cp_2  cp_3  cp_4\n",
              "0     1     0     0     0\n",
              "1     0     0     0     1\n",
              "2     0     0     0     1\n",
              "3     0     0     1     0\n",
              "4     0     1     0     0"
            ],
            "text/html": [
              "\n",
              "  <div id=\"df-068a0fe1-8d04-42a9-91ab-584806d4a04f\" class=\"colab-df-container\">\n",
              "    <div>\n",
              "<style scoped>\n",
              "    .dataframe tbody tr th:only-of-type {\n",
              "        vertical-align: middle;\n",
              "    }\n",
              "\n",
              "    .dataframe tbody tr th {\n",
              "        vertical-align: top;\n",
              "    }\n",
              "\n",
              "    .dataframe thead th {\n",
              "        text-align: right;\n",
              "    }\n",
              "</style>\n",
              "<table border=\"1\" class=\"dataframe\">\n",
              "  <thead>\n",
              "    <tr style=\"text-align: right;\">\n",
              "      <th></th>\n",
              "      <th>cp_1</th>\n",
              "      <th>cp_2</th>\n",
              "      <th>cp_3</th>\n",
              "      <th>cp_4</th>\n",
              "    </tr>\n",
              "  </thead>\n",
              "  <tbody>\n",
              "    <tr>\n",
              "      <th>0</th>\n",
              "      <td>1</td>\n",
              "      <td>0</td>\n",
              "      <td>0</td>\n",
              "      <td>0</td>\n",
              "    </tr>\n",
              "    <tr>\n",
              "      <th>1</th>\n",
              "      <td>0</td>\n",
              "      <td>0</td>\n",
              "      <td>0</td>\n",
              "      <td>1</td>\n",
              "    </tr>\n",
              "    <tr>\n",
              "      <th>2</th>\n",
              "      <td>0</td>\n",
              "      <td>0</td>\n",
              "      <td>0</td>\n",
              "      <td>1</td>\n",
              "    </tr>\n",
              "    <tr>\n",
              "      <th>3</th>\n",
              "      <td>0</td>\n",
              "      <td>0</td>\n",
              "      <td>1</td>\n",
              "      <td>0</td>\n",
              "    </tr>\n",
              "    <tr>\n",
              "      <th>4</th>\n",
              "      <td>0</td>\n",
              "      <td>1</td>\n",
              "      <td>0</td>\n",
              "      <td>0</td>\n",
              "    </tr>\n",
              "  </tbody>\n",
              "</table>\n",
              "</div>\n",
              "    <div class=\"colab-df-buttons\">\n",
              "\n",
              "  <div class=\"colab-df-container\">\n",
              "    <button class=\"colab-df-convert\" onclick=\"convertToInteractive('df-068a0fe1-8d04-42a9-91ab-584806d4a04f')\"\n",
              "            title=\"Convert this dataframe to an interactive table.\"\n",
              "            style=\"display:none;\">\n",
              "\n",
              "  <svg xmlns=\"http://www.w3.org/2000/svg\" height=\"24px\" viewBox=\"0 -960 960 960\">\n",
              "    <path d=\"M120-120v-720h720v720H120Zm60-500h600v-160H180v160Zm220 220h160v-160H400v160Zm0 220h160v-160H400v160ZM180-400h160v-160H180v160Zm440 0h160v-160H620v160ZM180-180h160v-160H180v160Zm440 0h160v-160H620v160Z\"/>\n",
              "  </svg>\n",
              "    </button>\n",
              "\n",
              "  <style>\n",
              "    .colab-df-container {\n",
              "      display:flex;\n",
              "      gap: 12px;\n",
              "    }\n",
              "\n",
              "    .colab-df-convert {\n",
              "      background-color: #E8F0FE;\n",
              "      border: none;\n",
              "      border-radius: 50%;\n",
              "      cursor: pointer;\n",
              "      display: none;\n",
              "      fill: #1967D2;\n",
              "      height: 32px;\n",
              "      padding: 0 0 0 0;\n",
              "      width: 32px;\n",
              "    }\n",
              "\n",
              "    .colab-df-convert:hover {\n",
              "      background-color: #E2EBFA;\n",
              "      box-shadow: 0px 1px 2px rgba(60, 64, 67, 0.3), 0px 1px 3px 1px rgba(60, 64, 67, 0.15);\n",
              "      fill: #174EA6;\n",
              "    }\n",
              "\n",
              "    .colab-df-buttons div {\n",
              "      margin-bottom: 4px;\n",
              "    }\n",
              "\n",
              "    [theme=dark] .colab-df-convert {\n",
              "      background-color: #3B4455;\n",
              "      fill: #D2E3FC;\n",
              "    }\n",
              "\n",
              "    [theme=dark] .colab-df-convert:hover {\n",
              "      background-color: #434B5C;\n",
              "      box-shadow: 0px 1px 3px 1px rgba(0, 0, 0, 0.15);\n",
              "      filter: drop-shadow(0px 1px 2px rgba(0, 0, 0, 0.3));\n",
              "      fill: #FFFFFF;\n",
              "    }\n",
              "  </style>\n",
              "\n",
              "    <script>\n",
              "      const buttonEl =\n",
              "        document.querySelector('#df-068a0fe1-8d04-42a9-91ab-584806d4a04f button.colab-df-convert');\n",
              "      buttonEl.style.display =\n",
              "        google.colab.kernel.accessAllowed ? 'block' : 'none';\n",
              "\n",
              "      async function convertToInteractive(key) {\n",
              "        const element = document.querySelector('#df-068a0fe1-8d04-42a9-91ab-584806d4a04f');\n",
              "        const dataTable =\n",
              "          await google.colab.kernel.invokeFunction('convertToInteractive',\n",
              "                                                    [key], {});\n",
              "        if (!dataTable) return;\n",
              "\n",
              "        const docLinkHtml = 'Like what you see? Visit the ' +\n",
              "          '<a target=\"_blank\" href=https://colab.research.google.com/notebooks/data_table.ipynb>data table notebook</a>'\n",
              "          + ' to learn more about interactive tables.';\n",
              "        element.innerHTML = '';\n",
              "        dataTable['output_type'] = 'display_data';\n",
              "        await google.colab.output.renderOutput(dataTable, element);\n",
              "        const docLink = document.createElement('div');\n",
              "        docLink.innerHTML = docLinkHtml;\n",
              "        element.appendChild(docLink);\n",
              "      }\n",
              "    </script>\n",
              "  </div>\n",
              "\n",
              "\n",
              "<div id=\"df-ce2d039e-97c3-4556-8ac2-8be749938987\">\n",
              "  <button class=\"colab-df-quickchart\" onclick=\"quickchart('df-ce2d039e-97c3-4556-8ac2-8be749938987')\"\n",
              "            title=\"Suggest charts\"\n",
              "            style=\"display:none;\">\n",
              "\n",
              "<svg xmlns=\"http://www.w3.org/2000/svg\" height=\"24px\"viewBox=\"0 0 24 24\"\n",
              "     width=\"24px\">\n",
              "    <g>\n",
              "        <path d=\"M19 3H5c-1.1 0-2 .9-2 2v14c0 1.1.9 2 2 2h14c1.1 0 2-.9 2-2V5c0-1.1-.9-2-2-2zM9 17H7v-7h2v7zm4 0h-2V7h2v10zm4 0h-2v-4h2v4z\"/>\n",
              "    </g>\n",
              "</svg>\n",
              "  </button>\n",
              "\n",
              "<style>\n",
              "  .colab-df-quickchart {\n",
              "      --bg-color: #E8F0FE;\n",
              "      --fill-color: #1967D2;\n",
              "      --hover-bg-color: #E2EBFA;\n",
              "      --hover-fill-color: #174EA6;\n",
              "      --disabled-fill-color: #AAA;\n",
              "      --disabled-bg-color: #DDD;\n",
              "  }\n",
              "\n",
              "  [theme=dark] .colab-df-quickchart {\n",
              "      --bg-color: #3B4455;\n",
              "      --fill-color: #D2E3FC;\n",
              "      --hover-bg-color: #434B5C;\n",
              "      --hover-fill-color: #FFFFFF;\n",
              "      --disabled-bg-color: #3B4455;\n",
              "      --disabled-fill-color: #666;\n",
              "  }\n",
              "\n",
              "  .colab-df-quickchart {\n",
              "    background-color: var(--bg-color);\n",
              "    border: none;\n",
              "    border-radius: 50%;\n",
              "    cursor: pointer;\n",
              "    display: none;\n",
              "    fill: var(--fill-color);\n",
              "    height: 32px;\n",
              "    padding: 0;\n",
              "    width: 32px;\n",
              "  }\n",
              "\n",
              "  .colab-df-quickchart:hover {\n",
              "    background-color: var(--hover-bg-color);\n",
              "    box-shadow: 0 1px 2px rgba(60, 64, 67, 0.3), 0 1px 3px 1px rgba(60, 64, 67, 0.15);\n",
              "    fill: var(--button-hover-fill-color);\n",
              "  }\n",
              "\n",
              "  .colab-df-quickchart-complete:disabled,\n",
              "  .colab-df-quickchart-complete:disabled:hover {\n",
              "    background-color: var(--disabled-bg-color);\n",
              "    fill: var(--disabled-fill-color);\n",
              "    box-shadow: none;\n",
              "  }\n",
              "\n",
              "  .colab-df-spinner {\n",
              "    border: 2px solid var(--fill-color);\n",
              "    border-color: transparent;\n",
              "    border-bottom-color: var(--fill-color);\n",
              "    animation:\n",
              "      spin 1s steps(1) infinite;\n",
              "  }\n",
              "\n",
              "  @keyframes spin {\n",
              "    0% {\n",
              "      border-color: transparent;\n",
              "      border-bottom-color: var(--fill-color);\n",
              "      border-left-color: var(--fill-color);\n",
              "    }\n",
              "    20% {\n",
              "      border-color: transparent;\n",
              "      border-left-color: var(--fill-color);\n",
              "      border-top-color: var(--fill-color);\n",
              "    }\n",
              "    30% {\n",
              "      border-color: transparent;\n",
              "      border-left-color: var(--fill-color);\n",
              "      border-top-color: var(--fill-color);\n",
              "      border-right-color: var(--fill-color);\n",
              "    }\n",
              "    40% {\n",
              "      border-color: transparent;\n",
              "      border-right-color: var(--fill-color);\n",
              "      border-top-color: var(--fill-color);\n",
              "    }\n",
              "    60% {\n",
              "      border-color: transparent;\n",
              "      border-right-color: var(--fill-color);\n",
              "    }\n",
              "    80% {\n",
              "      border-color: transparent;\n",
              "      border-right-color: var(--fill-color);\n",
              "      border-bottom-color: var(--fill-color);\n",
              "    }\n",
              "    90% {\n",
              "      border-color: transparent;\n",
              "      border-bottom-color: var(--fill-color);\n",
              "    }\n",
              "  }\n",
              "</style>\n",
              "\n",
              "  <script>\n",
              "    async function quickchart(key) {\n",
              "      const quickchartButtonEl =\n",
              "        document.querySelector('#' + key + ' button');\n",
              "      quickchartButtonEl.disabled = true;  // To prevent multiple clicks.\n",
              "      quickchartButtonEl.classList.add('colab-df-spinner');\n",
              "      try {\n",
              "        const charts = await google.colab.kernel.invokeFunction(\n",
              "            'suggestCharts', [key], {});\n",
              "      } catch (error) {\n",
              "        console.error('Error during call to suggestCharts:', error);\n",
              "      }\n",
              "      quickchartButtonEl.classList.remove('colab-df-spinner');\n",
              "      quickchartButtonEl.classList.add('colab-df-quickchart-complete');\n",
              "    }\n",
              "    (() => {\n",
              "      let quickchartButtonEl =\n",
              "        document.querySelector('#df-ce2d039e-97c3-4556-8ac2-8be749938987 button');\n",
              "      quickchartButtonEl.style.display =\n",
              "        google.colab.kernel.accessAllowed ? 'block' : 'none';\n",
              "    })();\n",
              "  </script>\n",
              "</div>\n",
              "\n",
              "    </div>\n",
              "  </div>\n"
            ],
            "application/vnd.google.colaboratory.intrinsic+json": {
              "type": "dataframe",
              "variable_name": "df_cp",
              "summary": "{\n  \"name\": \"df_cp\",\n  \"rows\": 303,\n  \"fields\": [\n    {\n      \"column\": \"cp_1\",\n      \"properties\": {\n        \"dtype\": \"number\",\n        \"std\": 0,\n        \"min\": 0,\n        \"max\": 1,\n        \"num_unique_values\": 2,\n        \"samples\": [\n          0,\n          1\n        ],\n        \"semantic_type\": \"\",\n        \"description\": \"\"\n      }\n    },\n    {\n      \"column\": \"cp_2\",\n      \"properties\": {\n        \"dtype\": \"number\",\n        \"std\": 0,\n        \"min\": 0,\n        \"max\": 1,\n        \"num_unique_values\": 2,\n        \"samples\": [\n          1,\n          0\n        ],\n        \"semantic_type\": \"\",\n        \"description\": \"\"\n      }\n    },\n    {\n      \"column\": \"cp_3\",\n      \"properties\": {\n        \"dtype\": \"number\",\n        \"std\": 0,\n        \"min\": 0,\n        \"max\": 1,\n        \"num_unique_values\": 2,\n        \"samples\": [\n          1,\n          0\n        ],\n        \"semantic_type\": \"\",\n        \"description\": \"\"\n      }\n    },\n    {\n      \"column\": \"cp_4\",\n      \"properties\": {\n        \"dtype\": \"number\",\n        \"std\": 0,\n        \"min\": 0,\n        \"max\": 1,\n        \"num_unique_values\": 2,\n        \"samples\": [\n          1,\n          0\n        ],\n        \"semantic_type\": \"\",\n        \"description\": \"\"\n      }\n    }\n  ]\n}"
            }
          },
          "metadata": {},
          "execution_count": 143
        }
      ]
    },
    {
      "cell_type": "markdown",
      "source": [
        "Agora, substituímos no conjunto de dados"
      ],
      "metadata": {
        "id": "oc2oPi5bDKHa"
      }
    },
    {
      "cell_type": "code",
      "source": [
        "X = X.drop('cp', axis = 1).join(df_cp)\n",
        "X.head()"
      ],
      "metadata": {
        "colab": {
          "base_uri": "https://localhost:8080/",
          "height": 206
        },
        "id": "NgIHX7lhDNxi",
        "outputId": "873b8330-ecd8-47bd-f899-e396457ef6ab"
      },
      "execution_count": 144,
      "outputs": [
        {
          "output_type": "execute_result",
          "data": {
            "text/plain": [
              "   age  chol  cp_1  cp_2  cp_3  cp_4\n",
              "0   63   233     1     0     0     0\n",
              "1   67   286     0     0     0     1\n",
              "2   67   229     0     0     0     1\n",
              "3   37   250     0     0     1     0\n",
              "4   41   204     0     1     0     0"
            ],
            "text/html": [
              "\n",
              "  <div id=\"df-08151fb5-1753-47a7-b5b0-47a07fbc11ed\" class=\"colab-df-container\">\n",
              "    <div>\n",
              "<style scoped>\n",
              "    .dataframe tbody tr th:only-of-type {\n",
              "        vertical-align: middle;\n",
              "    }\n",
              "\n",
              "    .dataframe tbody tr th {\n",
              "        vertical-align: top;\n",
              "    }\n",
              "\n",
              "    .dataframe thead th {\n",
              "        text-align: right;\n",
              "    }\n",
              "</style>\n",
              "<table border=\"1\" class=\"dataframe\">\n",
              "  <thead>\n",
              "    <tr style=\"text-align: right;\">\n",
              "      <th></th>\n",
              "      <th>age</th>\n",
              "      <th>chol</th>\n",
              "      <th>cp_1</th>\n",
              "      <th>cp_2</th>\n",
              "      <th>cp_3</th>\n",
              "      <th>cp_4</th>\n",
              "    </tr>\n",
              "  </thead>\n",
              "  <tbody>\n",
              "    <tr>\n",
              "      <th>0</th>\n",
              "      <td>63</td>\n",
              "      <td>233</td>\n",
              "      <td>1</td>\n",
              "      <td>0</td>\n",
              "      <td>0</td>\n",
              "      <td>0</td>\n",
              "    </tr>\n",
              "    <tr>\n",
              "      <th>1</th>\n",
              "      <td>67</td>\n",
              "      <td>286</td>\n",
              "      <td>0</td>\n",
              "      <td>0</td>\n",
              "      <td>0</td>\n",
              "      <td>1</td>\n",
              "    </tr>\n",
              "    <tr>\n",
              "      <th>2</th>\n",
              "      <td>67</td>\n",
              "      <td>229</td>\n",
              "      <td>0</td>\n",
              "      <td>0</td>\n",
              "      <td>0</td>\n",
              "      <td>1</td>\n",
              "    </tr>\n",
              "    <tr>\n",
              "      <th>3</th>\n",
              "      <td>37</td>\n",
              "      <td>250</td>\n",
              "      <td>0</td>\n",
              "      <td>0</td>\n",
              "      <td>1</td>\n",
              "      <td>0</td>\n",
              "    </tr>\n",
              "    <tr>\n",
              "      <th>4</th>\n",
              "      <td>41</td>\n",
              "      <td>204</td>\n",
              "      <td>0</td>\n",
              "      <td>1</td>\n",
              "      <td>0</td>\n",
              "      <td>0</td>\n",
              "    </tr>\n",
              "  </tbody>\n",
              "</table>\n",
              "</div>\n",
              "    <div class=\"colab-df-buttons\">\n",
              "\n",
              "  <div class=\"colab-df-container\">\n",
              "    <button class=\"colab-df-convert\" onclick=\"convertToInteractive('df-08151fb5-1753-47a7-b5b0-47a07fbc11ed')\"\n",
              "            title=\"Convert this dataframe to an interactive table.\"\n",
              "            style=\"display:none;\">\n",
              "\n",
              "  <svg xmlns=\"http://www.w3.org/2000/svg\" height=\"24px\" viewBox=\"0 -960 960 960\">\n",
              "    <path d=\"M120-120v-720h720v720H120Zm60-500h600v-160H180v160Zm220 220h160v-160H400v160Zm0 220h160v-160H400v160ZM180-400h160v-160H180v160Zm440 0h160v-160H620v160ZM180-180h160v-160H180v160Zm440 0h160v-160H620v160Z\"/>\n",
              "  </svg>\n",
              "    </button>\n",
              "\n",
              "  <style>\n",
              "    .colab-df-container {\n",
              "      display:flex;\n",
              "      gap: 12px;\n",
              "    }\n",
              "\n",
              "    .colab-df-convert {\n",
              "      background-color: #E8F0FE;\n",
              "      border: none;\n",
              "      border-radius: 50%;\n",
              "      cursor: pointer;\n",
              "      display: none;\n",
              "      fill: #1967D2;\n",
              "      height: 32px;\n",
              "      padding: 0 0 0 0;\n",
              "      width: 32px;\n",
              "    }\n",
              "\n",
              "    .colab-df-convert:hover {\n",
              "      background-color: #E2EBFA;\n",
              "      box-shadow: 0px 1px 2px rgba(60, 64, 67, 0.3), 0px 1px 3px 1px rgba(60, 64, 67, 0.15);\n",
              "      fill: #174EA6;\n",
              "    }\n",
              "\n",
              "    .colab-df-buttons div {\n",
              "      margin-bottom: 4px;\n",
              "    }\n",
              "\n",
              "    [theme=dark] .colab-df-convert {\n",
              "      background-color: #3B4455;\n",
              "      fill: #D2E3FC;\n",
              "    }\n",
              "\n",
              "    [theme=dark] .colab-df-convert:hover {\n",
              "      background-color: #434B5C;\n",
              "      box-shadow: 0px 1px 3px 1px rgba(0, 0, 0, 0.15);\n",
              "      filter: drop-shadow(0px 1px 2px rgba(0, 0, 0, 0.3));\n",
              "      fill: #FFFFFF;\n",
              "    }\n",
              "  </style>\n",
              "\n",
              "    <script>\n",
              "      const buttonEl =\n",
              "        document.querySelector('#df-08151fb5-1753-47a7-b5b0-47a07fbc11ed button.colab-df-convert');\n",
              "      buttonEl.style.display =\n",
              "        google.colab.kernel.accessAllowed ? 'block' : 'none';\n",
              "\n",
              "      async function convertToInteractive(key) {\n",
              "        const element = document.querySelector('#df-08151fb5-1753-47a7-b5b0-47a07fbc11ed');\n",
              "        const dataTable =\n",
              "          await google.colab.kernel.invokeFunction('convertToInteractive',\n",
              "                                                    [key], {});\n",
              "        if (!dataTable) return;\n",
              "\n",
              "        const docLinkHtml = 'Like what you see? Visit the ' +\n",
              "          '<a target=\"_blank\" href=https://colab.research.google.com/notebooks/data_table.ipynb>data table notebook</a>'\n",
              "          + ' to learn more about interactive tables.';\n",
              "        element.innerHTML = '';\n",
              "        dataTable['output_type'] = 'display_data';\n",
              "        await google.colab.output.renderOutput(dataTable, element);\n",
              "        const docLink = document.createElement('div');\n",
              "        docLink.innerHTML = docLinkHtml;\n",
              "        element.appendChild(docLink);\n",
              "      }\n",
              "    </script>\n",
              "  </div>\n",
              "\n",
              "\n",
              "<div id=\"df-55c4121b-7b19-45be-9a21-b102f15a5817\">\n",
              "  <button class=\"colab-df-quickchart\" onclick=\"quickchart('df-55c4121b-7b19-45be-9a21-b102f15a5817')\"\n",
              "            title=\"Suggest charts\"\n",
              "            style=\"display:none;\">\n",
              "\n",
              "<svg xmlns=\"http://www.w3.org/2000/svg\" height=\"24px\"viewBox=\"0 0 24 24\"\n",
              "     width=\"24px\">\n",
              "    <g>\n",
              "        <path d=\"M19 3H5c-1.1 0-2 .9-2 2v14c0 1.1.9 2 2 2h14c1.1 0 2-.9 2-2V5c0-1.1-.9-2-2-2zM9 17H7v-7h2v7zm4 0h-2V7h2v10zm4 0h-2v-4h2v4z\"/>\n",
              "    </g>\n",
              "</svg>\n",
              "  </button>\n",
              "\n",
              "<style>\n",
              "  .colab-df-quickchart {\n",
              "      --bg-color: #E8F0FE;\n",
              "      --fill-color: #1967D2;\n",
              "      --hover-bg-color: #E2EBFA;\n",
              "      --hover-fill-color: #174EA6;\n",
              "      --disabled-fill-color: #AAA;\n",
              "      --disabled-bg-color: #DDD;\n",
              "  }\n",
              "\n",
              "  [theme=dark] .colab-df-quickchart {\n",
              "      --bg-color: #3B4455;\n",
              "      --fill-color: #D2E3FC;\n",
              "      --hover-bg-color: #434B5C;\n",
              "      --hover-fill-color: #FFFFFF;\n",
              "      --disabled-bg-color: #3B4455;\n",
              "      --disabled-fill-color: #666;\n",
              "  }\n",
              "\n",
              "  .colab-df-quickchart {\n",
              "    background-color: var(--bg-color);\n",
              "    border: none;\n",
              "    border-radius: 50%;\n",
              "    cursor: pointer;\n",
              "    display: none;\n",
              "    fill: var(--fill-color);\n",
              "    height: 32px;\n",
              "    padding: 0;\n",
              "    width: 32px;\n",
              "  }\n",
              "\n",
              "  .colab-df-quickchart:hover {\n",
              "    background-color: var(--hover-bg-color);\n",
              "    box-shadow: 0 1px 2px rgba(60, 64, 67, 0.3), 0 1px 3px 1px rgba(60, 64, 67, 0.15);\n",
              "    fill: var(--button-hover-fill-color);\n",
              "  }\n",
              "\n",
              "  .colab-df-quickchart-complete:disabled,\n",
              "  .colab-df-quickchart-complete:disabled:hover {\n",
              "    background-color: var(--disabled-bg-color);\n",
              "    fill: var(--disabled-fill-color);\n",
              "    box-shadow: none;\n",
              "  }\n",
              "\n",
              "  .colab-df-spinner {\n",
              "    border: 2px solid var(--fill-color);\n",
              "    border-color: transparent;\n",
              "    border-bottom-color: var(--fill-color);\n",
              "    animation:\n",
              "      spin 1s steps(1) infinite;\n",
              "  }\n",
              "\n",
              "  @keyframes spin {\n",
              "    0% {\n",
              "      border-color: transparent;\n",
              "      border-bottom-color: var(--fill-color);\n",
              "      border-left-color: var(--fill-color);\n",
              "    }\n",
              "    20% {\n",
              "      border-color: transparent;\n",
              "      border-left-color: var(--fill-color);\n",
              "      border-top-color: var(--fill-color);\n",
              "    }\n",
              "    30% {\n",
              "      border-color: transparent;\n",
              "      border-left-color: var(--fill-color);\n",
              "      border-top-color: var(--fill-color);\n",
              "      border-right-color: var(--fill-color);\n",
              "    }\n",
              "    40% {\n",
              "      border-color: transparent;\n",
              "      border-right-color: var(--fill-color);\n",
              "      border-top-color: var(--fill-color);\n",
              "    }\n",
              "    60% {\n",
              "      border-color: transparent;\n",
              "      border-right-color: var(--fill-color);\n",
              "    }\n",
              "    80% {\n",
              "      border-color: transparent;\n",
              "      border-right-color: var(--fill-color);\n",
              "      border-bottom-color: var(--fill-color);\n",
              "    }\n",
              "    90% {\n",
              "      border-color: transparent;\n",
              "      border-bottom-color: var(--fill-color);\n",
              "    }\n",
              "  }\n",
              "</style>\n",
              "\n",
              "  <script>\n",
              "    async function quickchart(key) {\n",
              "      const quickchartButtonEl =\n",
              "        document.querySelector('#' + key + ' button');\n",
              "      quickchartButtonEl.disabled = true;  // To prevent multiple clicks.\n",
              "      quickchartButtonEl.classList.add('colab-df-spinner');\n",
              "      try {\n",
              "        const charts = await google.colab.kernel.invokeFunction(\n",
              "            'suggestCharts', [key], {});\n",
              "      } catch (error) {\n",
              "        console.error('Error during call to suggestCharts:', error);\n",
              "      }\n",
              "      quickchartButtonEl.classList.remove('colab-df-spinner');\n",
              "      quickchartButtonEl.classList.add('colab-df-quickchart-complete');\n",
              "    }\n",
              "    (() => {\n",
              "      let quickchartButtonEl =\n",
              "        document.querySelector('#df-55c4121b-7b19-45be-9a21-b102f15a5817 button');\n",
              "      quickchartButtonEl.style.display =\n",
              "        google.colab.kernel.accessAllowed ? 'block' : 'none';\n",
              "    })();\n",
              "  </script>\n",
              "</div>\n",
              "\n",
              "    </div>\n",
              "  </div>\n"
            ],
            "application/vnd.google.colaboratory.intrinsic+json": {
              "type": "dataframe",
              "variable_name": "X",
              "summary": "{\n  \"name\": \"X\",\n  \"rows\": 303,\n  \"fields\": [\n    {\n      \"column\": \"age\",\n      \"properties\": {\n        \"dtype\": \"number\",\n        \"std\": 9,\n        \"min\": 29,\n        \"max\": 77,\n        \"num_unique_values\": 41,\n        \"samples\": [\n          61,\n          64,\n          44\n        ],\n        \"semantic_type\": \"\",\n        \"description\": \"\"\n      }\n    },\n    {\n      \"column\": \"chol\",\n      \"properties\": {\n        \"dtype\": \"number\",\n        \"std\": 51,\n        \"min\": 126,\n        \"max\": 564,\n        \"num_unique_values\": 152,\n        \"samples\": [\n          321,\n          187,\n          174\n        ],\n        \"semantic_type\": \"\",\n        \"description\": \"\"\n      }\n    },\n    {\n      \"column\": \"cp_1\",\n      \"properties\": {\n        \"dtype\": \"number\",\n        \"std\": 0,\n        \"min\": 0,\n        \"max\": 1,\n        \"num_unique_values\": 2,\n        \"samples\": [\n          0,\n          1\n        ],\n        \"semantic_type\": \"\",\n        \"description\": \"\"\n      }\n    },\n    {\n      \"column\": \"cp_2\",\n      \"properties\": {\n        \"dtype\": \"number\",\n        \"std\": 0,\n        \"min\": 0,\n        \"max\": 1,\n        \"num_unique_values\": 2,\n        \"samples\": [\n          1,\n          0\n        ],\n        \"semantic_type\": \"\",\n        \"description\": \"\"\n      }\n    },\n    {\n      \"column\": \"cp_3\",\n      \"properties\": {\n        \"dtype\": \"number\",\n        \"std\": 0,\n        \"min\": 0,\n        \"max\": 1,\n        \"num_unique_values\": 2,\n        \"samples\": [\n          1,\n          0\n        ],\n        \"semantic_type\": \"\",\n        \"description\": \"\"\n      }\n    },\n    {\n      \"column\": \"cp_4\",\n      \"properties\": {\n        \"dtype\": \"number\",\n        \"std\": 0,\n        \"min\": 0,\n        \"max\": 1,\n        \"num_unique_values\": 2,\n        \"samples\": [\n          1,\n          0\n        ],\n        \"semantic_type\": \"\",\n        \"description\": \"\"\n      }\n    }\n  ]\n}"
            }
          },
          "metadata": {},
          "execution_count": 144
        }
      ]
    },
    {
      "cell_type": "markdown",
      "source": [
        "---"
      ],
      "metadata": {
        "id": "CY-n4bfNHDS7"
      }
    },
    {
      "cell_type": "markdown",
      "source": [
        "## Neurônio Perceptron\n",
        "As redes neurais possuem uma estrutura básica chamada neurôinio. Se observarmos essa estrutura, elas possuem algumas variáveis integradas a elas:\n",
        "- Pesos\n",
        "- Bias\n",
        "- Função de Ativação\n",
        "\n",
        "Os neurônios são separados em camadas, e todas essas camadas possuem nomes conhecidos.\n",
        "- Input Layer\n",
        "- Hidden Layer\n",
        "- Output Layer\n",
        "\n",
        "Para uma camada com neurônios ($a^{l}$), temos que receber valores de uma camada anterior ($a^{l-1}$). Esses valores irão primeiramente ser passados por uma função de ativação $\\sigma(x)$\n",
        "\n",
        "$$\n",
        "a^{l}_{j} = \\sigma\\left(\\sum\\limits_{k} \\omega^{l}_{jk} a^{l-1}_{k} + b^{l}_{j} \\right)\n",
        "$$\n",
        "\n",
        "em que $\\omega$ são os pesos e $b$ são o bias. Esses valores vão sendo percorridos até chegar à camada de saída. Esse processo é chamado de *feed forward*\n",
        "\n",
        "Começamos a nossa rede definindo a seed de aleatoriedade, tornando os resultados reprodutíveis"
      ],
      "metadata": {
        "id": "owGX2pXhDowv"
      }
    },
    {
      "cell_type": "code",
      "source": [
        "import tensorflow as tf\n",
        "seed = 31\n",
        "tf.random.set_seed(seed)\n",
        "print(f'TensorFlow importado na versão {tf.__version__} com a seed {seed}')"
      ],
      "metadata": {
        "colab": {
          "base_uri": "https://localhost:8080/"
        },
        "id": "kewIYZMODvAL",
        "outputId": "de1a0b0d-f709-4d1c-d406-dce7ccfea484"
      },
      "execution_count": 145,
      "outputs": [
        {
          "output_type": "stream",
          "name": "stdout",
          "text": [
            "TensorFlow importado na versão 2.17.0 com a seed 31\n"
          ]
        }
      ]
    },
    {
      "cell_type": "markdown",
      "source": [
        "Começamos iniciando os pesos e os víeses"
      ],
      "metadata": {
        "id": "Bm7mg44uEK4I"
      }
    },
    {
      "cell_type": "code",
      "source": [
        "peso = tf.Variable(tf.random.normal([1], name = 'peso'))\n",
        "vies = tf.Variable(tf.random.normal([1], name = 'vies'))\n",
        "\n",
        "print(f'Peso inicial: {peso.numpy()}')\n",
        "print(f'Vies inicial: {vies.numpy()}')"
      ],
      "metadata": {
        "colab": {
          "base_uri": "https://localhost:8080/"
        },
        "id": "U0WXLQVhEiIi",
        "outputId": "196f35ef-c61e-41d0-a51c-aeccf587a414"
      },
      "execution_count": 146,
      "outputs": [
        {
          "output_type": "stream",
          "name": "stdout",
          "text": [
            "Peso inicial: [-0.3594139]\n",
            "Vies inicial: [0.15100643]\n"
          ]
        }
      ]
    },
    {
      "cell_type": "markdown",
      "source": [
        "Agora podemos iniciar o neurônio. Usaremos como função de ativação a sigmoid. A função sigmoid vai ajudar a normalizar as saídas"
      ],
      "metadata": {
        "id": "VLxz2kJCE-5R"
      }
    },
    {
      "cell_type": "code",
      "source": [
        "import numpy as np\n",
        "\n",
        "x = np.linspace(-5,5,100)\n",
        "y = tf.sigmoid(x)\n",
        "plt.plot(x,y)\n",
        "plt.xlabel('x')\n",
        "plt.title('Sigmoid(x)')\n",
        "plt.show()"
      ],
      "metadata": {
        "colab": {
          "base_uri": "https://localhost:8080/",
          "height": 472
        },
        "id": "irBIDXLPGaQH",
        "outputId": "694f3233-7fcd-4f5d-a324-65c788729849"
      },
      "execution_count": 147,
      "outputs": [
        {
          "output_type": "display_data",
          "data": {
            "text/plain": [
              "<Figure size 640x480 with 1 Axes>"
            ],
            "image/png": "[encoded data removed]"
          },
          "metadata": {}
        }
      ]
    },
    {
      "cell_type": "code",
      "source": [
        "def neuronio(x):\n",
        "  return tf.sigmoid(tf.add(tf.multiply(peso,x),vies))"
      ],
      "metadata": {
        "id": "QsUSBA6JE-Z_"
      },
      "execution_count": 148,
      "outputs": []
    },
    {
      "cell_type": "markdown",
      "source": [
        "Podemos fazer um exemplo simples de resultado de um neurônio que recebe um número 10 como entrada"
      ],
      "metadata": {
        "id": "dTJ0SNTiFylF"
      }
    },
    {
      "cell_type": "code",
      "source": [
        "exemplo = tf.constant(10.0)\n",
        "resultado = neuronio(exemplo)\n",
        "print(f'Resultado do neurônio: {resultado.numpy()}')"
      ],
      "metadata": {
        "colab": {
          "base_uri": "https://localhost:8080/"
        },
        "id": "Gafvsb_8Fg4o",
        "outputId": "0e3d6423-e966-4315-bce6-4023007b4858"
      },
      "execution_count": 149,
      "outputs": [
        {
          "output_type": "stream",
          "name": "stdout",
          "text": [
            "Resultado do neurônio: [0.03097433]\n"
          ]
        }
      ]
    },
    {
      "cell_type": "markdown",
      "source": [
        "### Usando os dados\n",
        "Podemos aplicar uma coluna dos dados no neurônio para obter algumas respostas. Supondo que um resultado maior que 0.5 seja um valor verdadeiro"
      ],
      "metadata": {
        "id": "mnNSG9exH0fc"
      }
    },
    {
      "cell_type": "code",
      "source": [
        "def teste(x):\n",
        "  return neuronio(x)>0.5"
      ],
      "metadata": {
        "id": "0stJBO5QH36u"
      },
      "execution_count": 150,
      "outputs": []
    },
    {
      "cell_type": "code",
      "source": [
        "teste(exemplo)"
      ],
      "metadata": {
        "colab": {
          "base_uri": "https://localhost:8080/"
        },
        "id": "zSY6s_JlI-Qh",
        "outputId": "b704be3c-6de9-4916-91e1-1498a77bc516"
      },
      "execution_count": 151,
      "outputs": [
        {
          "output_type": "execute_result",
          "data": {
            "text/plain": [
              "<tf.Tensor: shape=(1,), dtype=bool, numpy=array([False])>"
            ]
          },
          "metadata": {},
          "execution_count": 151
        }
      ]
    },
    {
      "cell_type": "markdown",
      "source": [
        "Agora, usaremos a nossa coluna de dados de colesterol e mostraremos apenas alguns valores"
      ],
      "metadata": {
        "id": "eC_8As1hJJK9"
      }
    },
    {
      "cell_type": "code",
      "source": [
        "respostas = teste(tf.constant(X['chol'],dtype=tf.float32)).numpy()\n",
        "respostas_df = pd.DataFrame(respostas,columns=['respostas'])\n",
        "respostas_df.value_counts()"
      ],
      "metadata": {
        "colab": {
          "base_uri": "https://localhost:8080/",
          "height": 147
        },
        "id": "FRjZzQ_eJNF4",
        "outputId": "8a7d9265-af65-4442-8f36-57e66f265c71"
      },
      "execution_count": 152,
      "outputs": [
        {
          "output_type": "execute_result",
          "data": {
            "text/plain": [
              "respostas\n",
              "False        303\n",
              "Name: count, dtype: int64"
            ],
            "text/html": [
              "<div>\n",
              "<style scoped>\n",
              "    .dataframe tbody tr th:only-of-type {\n",
              "        vertical-align: middle;\n",
              "    }\n",
              "\n",
              "    .dataframe tbody tr th {\n",
              "        vertical-align: top;\n",
              "    }\n",
              "\n",
              "    .dataframe thead th {\n",
              "        text-align: right;\n",
              "    }\n",
              "</style>\n",
              "<table border=\"1\" class=\"dataframe\">\n",
              "  <thead>\n",
              "    <tr style=\"text-align: right;\">\n",
              "      <th></th>\n",
              "      <th>count</th>\n",
              "    </tr>\n",
              "    <tr>\n",
              "      <th>respostas</th>\n",
              "      <th></th>\n",
              "    </tr>\n",
              "  </thead>\n",
              "  <tbody>\n",
              "    <tr>\n",
              "      <th>False</th>\n",
              "      <td>303</td>\n",
              "    </tr>\n",
              "  </tbody>\n",
              "</table>\n",
              "</div><br><label><b>dtype:</b> int64</label>"
            ]
          },
          "metadata": {},
          "execution_count": 152
        }
      ]
    },
    {
      "cell_type": "markdown",
      "source": [
        "Pela aleatoriedade dos nossos pesos, vemos que todos os dados foram falsos. Agora, temos que descobrir como podemos mostrar pra rede neural se os valores dos pesos e vieses estão adequados ou não.\n",
        "\n",
        "### Perda (loss)\n",
        "Toda rede neural deve ter um critério de loss para ser usado como base no aprendizado, aí, a rede irá adaptar os valores dos pesos e vieses, aproximando do resultado esperado. Começamos transformando nossas respostas corretas para comparação em um tensor."
      ],
      "metadata": {
        "id": "euitPNazLKjz"
      }
    },
    {
      "cell_type": "code",
      "source": [
        "y = tf.constant(Y['num'], dtype=tf.float32)\n",
        "y[:10]"
      ],
      "metadata": {
        "colab": {
          "base_uri": "https://localhost:8080/"
        },
        "id": "93mPw9UnMf5O",
        "outputId": "3fbfa212-0322-483c-9f88-1b0506c7c0d6"
      },
      "execution_count": 153,
      "outputs": [
        {
          "output_type": "execute_result",
          "data": {
            "text/plain": [
              "<tf.Tensor: shape=(10,), dtype=float32, numpy=array([0., 1., 1., 0., 0., 0., 1., 0., 1., 1.], dtype=float32)>"
            ]
          },
          "metadata": {},
          "execution_count": 153
        }
      ]
    },
    {
      "cell_type": "markdown",
      "source": [
        "Vamos calcular nossa perda, para isso usaremos a Binary Cross Entropy:\n",
        "$$\n",
        "\\text{loss} = - \\frac{1}{N} \\sum_{i=1}^{N} y_i \\cdot \\log(p(y_i)) + (1-y_i) \\cdot \\log(1-p(y_i))\n",
        "$$\n",
        "\n",
        "Nos parâmetros, passamos os dados verdadeiros e os dados que o neurônio preveu"
      ],
      "metadata": {
        "id": "et2pKkwpM9uS"
      }
    },
    {
      "cell_type": "code",
      "source": [
        "calculo_perda = tf.keras.losses.BinaryCrossentropy()\n",
        "perda = calculo_perda(y_true = y, y_pred=respostas)\n",
        "print(f'Perda: {perda.numpy()}')"
      ],
      "metadata": {
        "colab": {
          "base_uri": "https://localhost:8080/"
        },
        "id": "YYzPdcIAM_D9",
        "outputId": "2f2dc12f-737d-43a6-b73d-0267f396cc5c"
      },
      "execution_count": 154,
      "outputs": [
        {
          "output_type": "stream",
          "name": "stdout",
          "text": [
            "Perda: 7.39410924911499\n"
          ]
        }
      ]
    },
    {
      "cell_type": "markdown",
      "source": [
        "### Acurácia\n",
        "Agora, para a acurácia, calculamos o quanto o neurônio acertou fazendo uma média de todos os resultados"
      ],
      "metadata": {
        "id": "tTYY63OdOLoI"
      }
    },
    {
      "cell_type": "code",
      "source": [
        "np.mean(y.numpy() == respostas*1) #*1 para transformar Ture para 1 e False para 0"
      ],
      "metadata": {
        "colab": {
          "base_uri": "https://localhost:8080/"
        },
        "id": "1Isfel8NOSbc",
        "outputId": "481a5175-1417-46d4-fc44-e6b007163913"
      },
      "execution_count": 155,
      "outputs": [
        {
          "output_type": "execute_result",
          "data": {
            "text/plain": [
              "0.5412541254125413"
            ]
          },
          "metadata": {},
          "execution_count": 155
        }
      ]
    },
    {
      "cell_type": "markdown",
      "source": [
        "Para um problema médico, 54% de acurácia é considerado baixo. Vamos expplorar algumas estratégias para melhorar isso. Mas antes, faremos o teste para a coluna ch_1."
      ],
      "metadata": {
        "id": "8xM-jkU6P9WO"
      }
    },
    {
      "cell_type": "code",
      "source": [
        "print('Resultados para coluna ch_1: \\n')\n",
        "\n",
        "respostas = teste(tf.constant(X['cp_1'],dtype=tf.float32)).numpy()\n",
        "respostas_df = pd.DataFrame(respostas,columns=['respostas'])\n",
        "print(respostas_df.value_counts())\n",
        "print('==='*15)\n",
        "\n",
        "calculo_perda = tf.keras.losses.BinaryCrossentropy()\n",
        "perda = calculo_perda(y_true = y, y_pred=respostas)\n",
        "print(f'Perda: {perda.numpy()}')\n",
        "print('==='*15)\n",
        "\n",
        "acuracia = np.mean(y.numpy() == respostas*1)\n",
        "print(f'Acurácia: {acuracia}')"
      ],
      "metadata": {
        "colab": {
          "base_uri": "https://localhost:8080/"
        },
        "id": "_Svfb3r7QU-R",
        "outputId": "dcec22a7-fa66-41ed-e9bd-28d15953e5e5"
      },
      "execution_count": 156,
      "outputs": [
        {
          "output_type": "stream",
          "name": "stdout",
          "text": [
            "Resultados para coluna ch_1: \n",
            "\n",
            "respostas\n",
            "True         280\n",
            "False         23\n",
            "Name: count, dtype: int64\n",
            "=============================================\n",
            "Perda: 8.159404754638672\n",
            "=============================================\n",
            "Acurácia: 0.4884488448844885\n"
          ]
        }
      ]
    },
    {
      "cell_type": "markdown",
      "source": [
        "# Modelo Completo Com Um Neurônio\n",
        "Lembrando dos elementos, temos os dados de entrada em `X` e as respostas corretas em `y`.\n",
        "\n",
        "O primeiro passo vai ser normalizar os dados usando o StandardScaler, que irá normalizar com a média = 0 e desvio padrão = 1"
      ],
      "metadata": {
        "id": "Yi8FrFOxRPE9"
      }
    },
    {
      "cell_type": "code",
      "source": [
        "from sklearn.preprocessing import StandardScaler\n",
        "\n",
        "scaler = StandardScaler()"
      ],
      "metadata": {
        "id": "F0JpsY5AR9-C"
      },
      "execution_count": 157,
      "outputs": []
    },
    {
      "cell_type": "code",
      "source": [
        "X[['age','chol']] = scaler.fit_transform(X[['age','chol']])\n",
        "print('Primeiros Valores')\n",
        "X[['age','chol']].head()"
      ],
      "metadata": {
        "colab": {
          "base_uri": "https://localhost:8080/",
          "height": 224
        },
        "id": "yQU8Y0e7SEg2",
        "outputId": "1bbb0e96-be71-4dec-fa33-8a704a103598"
      },
      "execution_count": 158,
      "outputs": [
        {
          "output_type": "stream",
          "name": "stdout",
          "text": [
            "Primeiros Valores\n"
          ]
        },
        {
          "output_type": "execute_result",
          "data": {
            "text/plain": [
              "        age      chol\n",
              "0  0.948726 -0.264900\n",
              "1  1.392002  0.760415\n",
              "2  1.392002 -0.342283\n",
              "3 -1.932564  0.063974\n",
              "4 -1.489288 -0.825922"
            ],
            "text/html": [
              "\n",
              "  <div id=\"df-6e45dfab-95d6-4e11-ac81-5259a1caffe2\" class=\"colab-df-container\">\n",
              "    <div>\n",
              "<style scoped>\n",
              "    .dataframe tbody tr th:only-of-type {\n",
              "        vertical-align: middle;\n",
              "    }\n",
              "\n",
              "    .dataframe tbody tr th {\n",
              "        vertical-align: top;\n",
              "    }\n",
              "\n",
              "    .dataframe thead th {\n",
              "        text-align: right;\n",
              "    }\n",
              "</style>\n",
              "<table border=\"1\" class=\"dataframe\">\n",
              "  <thead>\n",
              "    <tr style=\"text-align: right;\">\n",
              "      <th></th>\n",
              "      <th>age</th>\n",
              "      <th>chol</th>\n",
              "    </tr>\n",
              "  </thead>\n",
              "  <tbody>\n",
              "    <tr>\n",
              "      <th>0</th>\n",
              "      <td>0.948726</td>\n",
              "      <td>-0.264900</td>\n",
              "    </tr>\n",
              "    <tr>\n",
              "      <th>1</th>\n",
              "      <td>1.392002</td>\n",
              "      <td>0.760415</td>\n",
              "    </tr>\n",
              "    <tr>\n",
              "      <th>2</th>\n",
              "      <td>1.392002</td>\n",
              "      <td>-0.342283</td>\n",
              "    </tr>\n",
              "    <tr>\n",
              "      <th>3</th>\n",
              "      <td>-1.932564</td>\n",
              "      <td>0.063974</td>\n",
              "    </tr>\n",
              "    <tr>\n",
              "      <th>4</th>\n",
              "      <td>-1.489288</td>\n",
              "      <td>-0.825922</td>\n",
              "    </tr>\n",
              "  </tbody>\n",
              "</table>\n",
              "</div>\n",
              "    <div class=\"colab-df-buttons\">\n",
              "\n",
              "  <div class=\"colab-df-container\">\n",
              "    <button class=\"colab-df-convert\" onclick=\"convertToInteractive('df-6e45dfab-95d6-4e11-ac81-5259a1caffe2')\"\n",
              "            title=\"Convert this dataframe to an interactive table.\"\n",
              "            style=\"display:none;\">\n",
              "\n",
              "  <svg xmlns=\"http://www.w3.org/2000/svg\" height=\"24px\" viewBox=\"0 -960 960 960\">\n",
              "    <path d=\"M120-120v-720h720v720H120Zm60-500h600v-160H180v160Zm220 220h160v-160H400v160Zm0 220h160v-160H400v160ZM180-400h160v-160H180v160Zm440 0h160v-160H620v160ZM180-180h160v-160H180v160Zm440 0h160v-160H620v160Z\"/>\n",
              "  </svg>\n",
              "    </button>\n",
              "\n",
              "  <style>\n",
              "    .colab-df-container {\n",
              "      display:flex;\n",
              "      gap: 12px;\n",
              "    }\n",
              "\n",
              "    .colab-df-convert {\n",
              "      background-color: #E8F0FE;\n",
              "      border: none;\n",
              "      border-radius: 50%;\n",
              "      cursor: pointer;\n",
              "      display: none;\n",
              "      fill: #1967D2;\n",
              "      height: 32px;\n",
              "      padding: 0 0 0 0;\n",
              "      width: 32px;\n",
              "    }\n",
              "\n",
              "    .colab-df-convert:hover {\n",
              "      background-color: #E2EBFA;\n",
              "      box-shadow: 0px 1px 2px rgba(60, 64, 67, 0.3), 0px 1px 3px 1px rgba(60, 64, 67, 0.15);\n",
              "      fill: #174EA6;\n",
              "    }\n",
              "\n",
              "    .colab-df-buttons div {\n",
              "      margin-bottom: 4px;\n",
              "    }\n",
              "\n",
              "    [theme=dark] .colab-df-convert {\n",
              "      background-color: #3B4455;\n",
              "      fill: #D2E3FC;\n",
              "    }\n",
              "\n",
              "    [theme=dark] .colab-df-convert:hover {\n",
              "      background-color: #434B5C;\n",
              "      box-shadow: 0px 1px 3px 1px rgba(0, 0, 0, 0.15);\n",
              "      filter: drop-shadow(0px 1px 2px rgba(0, 0, 0, 0.3));\n",
              "      fill: #FFFFFF;\n",
              "    }\n",
              "  </style>\n",
              "\n",
              "    <script>\n",
              "      const buttonEl =\n",
              "        document.querySelector('#df-6e45dfab-95d6-4e11-ac81-5259a1caffe2 button.colab-df-convert');\n",
              "      buttonEl.style.display =\n",
              "        google.colab.kernel.accessAllowed ? 'block' : 'none';\n",
              "\n",
              "      async function convertToInteractive(key) {\n",
              "        const element = document.querySelector('#df-6e45dfab-95d6-4e11-ac81-5259a1caffe2');\n",
              "        const dataTable =\n",
              "          await google.colab.kernel.invokeFunction('convertToInteractive',\n",
              "                                                    [key], {});\n",
              "        if (!dataTable) return;\n",
              "\n",
              "        const docLinkHtml = 'Like what you see? Visit the ' +\n",
              "          '<a target=\"_blank\" href=https://colab.research.google.com/notebooks/data_table.ipynb>data table notebook</a>'\n",
              "          + ' to learn more about interactive tables.';\n",
              "        element.innerHTML = '';\n",
              "        dataTable['output_type'] = 'display_data';\n",
              "        await google.colab.output.renderOutput(dataTable, element);\n",
              "        const docLink = document.createElement('div');\n",
              "        docLink.innerHTML = docLinkHtml;\n",
              "        element.appendChild(docLink);\n",
              "      }\n",
              "    </script>\n",
              "  </div>\n",
              "\n",
              "\n",
              "<div id=\"df-55be9b4f-962b-4207-80b0-b78c024f5940\">\n",
              "  <button class=\"colab-df-quickchart\" onclick=\"quickchart('df-55be9b4f-962b-4207-80b0-b78c024f5940')\"\n",
              "            title=\"Suggest charts\"\n",
              "            style=\"display:none;\">\n",
              "\n",
              "<svg xmlns=\"http://www.w3.org/2000/svg\" height=\"24px\"viewBox=\"0 0 24 24\"\n",
              "     width=\"24px\">\n",
              "    <g>\n",
              "        <path d=\"M19 3H5c-1.1 0-2 .9-2 2v14c0 1.1.9 2 2 2h14c1.1 0 2-.9 2-2V5c0-1.1-.9-2-2-2zM9 17H7v-7h2v7zm4 0h-2V7h2v10zm4 0h-2v-4h2v4z\"/>\n",
              "    </g>\n",
              "</svg>\n",
              "  </button>\n",
              "\n",
              "<style>\n",
              "  .colab-df-quickchart {\n",
              "      --bg-color: #E8F0FE;\n",
              "      --fill-color: #1967D2;\n",
              "      --hover-bg-color: #E2EBFA;\n",
              "      --hover-fill-color: #174EA6;\n",
              "      --disabled-fill-color: #AAA;\n",
              "      --disabled-bg-color: #DDD;\n",
              "  }\n",
              "\n",
              "  [theme=dark] .colab-df-quickchart {\n",
              "      --bg-color: #3B4455;\n",
              "      --fill-color: #D2E3FC;\n",
              "      --hover-bg-color: #434B5C;\n",
              "      --hover-fill-color: #FFFFFF;\n",
              "      --disabled-bg-color: #3B4455;\n",
              "      --disabled-fill-color: #666;\n",
              "  }\n",
              "\n",
              "  .colab-df-quickchart {\n",
              "    background-color: var(--bg-color);\n",
              "    border: none;\n",
              "    border-radius: 50%;\n",
              "    cursor: pointer;\n",
              "    display: none;\n",
              "    fill: var(--fill-color);\n",
              "    height: 32px;\n",
              "    padding: 0;\n",
              "    width: 32px;\n",
              "  }\n",
              "\n",
              "  .colab-df-quickchart:hover {\n",
              "    background-color: var(--hover-bg-color);\n",
              "    box-shadow: 0 1px 2px rgba(60, 64, 67, 0.3), 0 1px 3px 1px rgba(60, 64, 67, 0.15);\n",
              "    fill: var(--button-hover-fill-color);\n",
              "  }\n",
              "\n",
              "  .colab-df-quickchart-complete:disabled,\n",
              "  .colab-df-quickchart-complete:disabled:hover {\n",
              "    background-color: var(--disabled-bg-color);\n",
              "    fill: var(--disabled-fill-color);\n",
              "    box-shadow: none;\n",
              "  }\n",
              "\n",
              "  .colab-df-spinner {\n",
              "    border: 2px solid var(--fill-color);\n",
              "    border-color: transparent;\n",
              "    border-bottom-color: var(--fill-color);\n",
              "    animation:\n",
              "      spin 1s steps(1) infinite;\n",
              "  }\n",
              "\n",
              "  @keyframes spin {\n",
              "    0% {\n",
              "      border-color: transparent;\n",
              "      border-bottom-color: var(--fill-color);\n",
              "      border-left-color: var(--fill-color);\n",
              "    }\n",
              "    20% {\n",
              "      border-color: transparent;\n",
              "      border-left-color: var(--fill-color);\n",
              "      border-top-color: var(--fill-color);\n",
              "    }\n",
              "    30% {\n",
              "      border-color: transparent;\n",
              "      border-left-color: var(--fill-color);\n",
              "      border-top-color: var(--fill-color);\n",
              "      border-right-color: var(--fill-color);\n",
              "    }\n",
              "    40% {\n",
              "      border-color: transparent;\n",
              "      border-right-color: var(--fill-color);\n",
              "      border-top-color: var(--fill-color);\n",
              "    }\n",
              "    60% {\n",
              "      border-color: transparent;\n",
              "      border-right-color: var(--fill-color);\n",
              "    }\n",
              "    80% {\n",
              "      border-color: transparent;\n",
              "      border-right-color: var(--fill-color);\n",
              "      border-bottom-color: var(--fill-color);\n",
              "    }\n",
              "    90% {\n",
              "      border-color: transparent;\n",
              "      border-bottom-color: var(--fill-color);\n",
              "    }\n",
              "  }\n",
              "</style>\n",
              "\n",
              "  <script>\n",
              "    async function quickchart(key) {\n",
              "      const quickchartButtonEl =\n",
              "        document.querySelector('#' + key + ' button');\n",
              "      quickchartButtonEl.disabled = true;  // To prevent multiple clicks.\n",
              "      quickchartButtonEl.classList.add('colab-df-spinner');\n",
              "      try {\n",
              "        const charts = await google.colab.kernel.invokeFunction(\n",
              "            'suggestCharts', [key], {});\n",
              "      } catch (error) {\n",
              "        console.error('Error during call to suggestCharts:', error);\n",
              "      }\n",
              "      quickchartButtonEl.classList.remove('colab-df-spinner');\n",
              "      quickchartButtonEl.classList.add('colab-df-quickchart-complete');\n",
              "    }\n",
              "    (() => {\n",
              "      let quickchartButtonEl =\n",
              "        document.querySelector('#df-55be9b4f-962b-4207-80b0-b78c024f5940 button');\n",
              "      quickchartButtonEl.style.display =\n",
              "        google.colab.kernel.accessAllowed ? 'block' : 'none';\n",
              "    })();\n",
              "  </script>\n",
              "</div>\n",
              "\n",
              "    </div>\n",
              "  </div>\n"
            ],
            "application/vnd.google.colaboratory.intrinsic+json": {
              "type": "dataframe",
              "summary": "{\n  \"name\": \"X[['age','chol']]\",\n  \"rows\": 5,\n  \"fields\": [\n    {\n      \"column\": \"age\",\n      \"properties\": {\n        \"dtype\": \"number\",\n        \"std\": 1.6362208482884448,\n        \"min\": -1.9325638685765207,\n        \"max\": 1.3920019083652986,\n        \"num_unique_values\": 4,\n        \"samples\": [\n          1.3920019083652986,\n          -1.4892884316509447,\n          0.9487264714397227\n        ],\n        \"semantic_type\": \"\",\n        \"description\": \"\"\n      }\n    },\n    {\n      \"column\": \"chol\",\n      \"properties\": {\n        \"dtype\": \"number\",\n        \"std\": 0.586876016668656,\n        \"min\": -0.8259219901381588,\n        \"max\": 0.7604151903637505,\n        \"num_unique_values\": 5,\n        \"samples\": [\n          0.7604151903637505,\n          -0.8259219901381588,\n          -0.34228260583879616\n        ],\n        \"semantic_type\": \"\",\n        \"description\": \"\"\n      }\n    }\n  ]\n}"
            }
          },
          "metadata": {},
          "execution_count": 158
        }
      ]
    },
    {
      "cell_type": "markdown",
      "source": [
        "Com os dados normalizados, podemos construir nosso neurônio. Ele irá receber uma linha de cada vez. Vamos verificar quantos dados temos de entrada em cada linha e construir o neurônio a partir daí.\n",
        "\n",
        "![Captura de tela 2024-08-30 002310.png](data:image/png;base64,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)"
      ],
      "metadata": {
        "id": "UL1FD5u_SsGC"
      }
    },
    {
      "cell_type": "code",
      "source": [
        "X.shape[1]"
      ],
      "metadata": {
        "colab": {
          "base_uri": "https://localhost:8080/"
        },
        "id": "ijsOG7MQSx7w",
        "outputId": "fd798ab4-d354-4aaf-fa72-632a9e32f9b6"
      },
      "execution_count": 159,
      "outputs": [
        {
          "output_type": "execute_result",
          "data": {
            "text/plain": [
              "6"
            ]
          },
          "metadata": {},
          "execution_count": 159
        }
      ]
    },
    {
      "cell_type": "code",
      "source": [
        "tamanho = X.shape[1]\n",
        "peso = tf.Variable(tf.random.normal([tamanho,1], name = 'peso'))\n",
        "vies = tf.Variable(tf.random.normal([1]))"
      ],
      "metadata": {
        "id": "ohYNxNSOTG3N"
      },
      "execution_count": 160,
      "outputs": []
    },
    {
      "cell_type": "markdown",
      "source": [
        "Construindo o neurônio, lembrando que agora estamos trabalhando com matrizes"
      ],
      "metadata": {
        "id": "u2bvXOEeT_Fw"
      }
    },
    {
      "cell_type": "code",
      "source": [
        "def neuronio(x):\n",
        "  return tf.sigmoid(tf.add(tf.matmul(x, peso), vies)) # matmul para multiplicar matrizes"
      ],
      "metadata": {
        "id": "FnoiuanVUA9D"
      },
      "execution_count": 161,
      "outputs": []
    },
    {
      "cell_type": "markdown",
      "source": [
        "Fazendo o teste com o primeiro paciente"
      ],
      "metadata": {
        "id": "lwsIpVIZUaij"
      }
    },
    {
      "cell_type": "code",
      "source": [
        "neuronio(tf.constant(X.iloc[0].values, dtype=tf.float32, shape = (1,6)))"
      ],
      "metadata": {
        "colab": {
          "base_uri": "https://localhost:8080/"
        },
        "id": "BmN7NzoDUVVS",
        "outputId": "a854eacc-ddda-41ca-da0c-76a5ba30484a"
      },
      "execution_count": 162,
      "outputs": [
        {
          "output_type": "execute_result",
          "data": {
            "text/plain": [
              "<tf.Tensor: shape=(1, 1), dtype=float32, numpy=array([[0.9289319]], dtype=float32)>"
            ]
          },
          "metadata": {},
          "execution_count": 162
        }
      ]
    },
    {
      "cell_type": "markdown",
      "source": [
        "Isso retornaria um valor verdadeiro! Vamos jogar todos os pacientes"
      ],
      "metadata": {
        "id": "HjUBJqeHWBcX"
      }
    },
    {
      "cell_type": "code",
      "source": [
        "entrada = tf.constant(X, dtype=tf.float32)\n",
        "resultado = neuronio(entrada)\n",
        "resultado[:10].numpy()"
      ],
      "metadata": {
        "colab": {
          "base_uri": "https://localhost:8080/"
        },
        "id": "V1k5aaAzWGPB",
        "outputId": "b4b29606-8565-43c6-f777-3c36380faadc"
      },
      "execution_count": 163,
      "outputs": [
        {
          "output_type": "execute_result",
          "data": {
            "text/plain": [
              "array([[0.9289319 ],\n",
              "       [0.14875948],\n",
              "       [0.56224597],\n",
              "       [0.42359152],\n",
              "       [0.49607018],\n",
              "       [0.3407665 ],\n",
              "       [0.21874033],\n",
              "       [0.0116465 ],\n",
              "       [0.3205164 ],\n",
              "       [0.6717675 ]], dtype=float32)"
            ]
          },
          "metadata": {},
          "execution_count": 163
        }
      ]
    },
    {
      "cell_type": "markdown",
      "source": [
        "Podemos agora avaliar o modelo"
      ],
      "metadata": {
        "id": "Aq_1dJ0WWX_0"
      }
    },
    {
      "cell_type": "code",
      "source": [
        "perda = calculo_perda(y_true = y, y_pred = resultado)\n",
        "print(f'Perda: {perda.numpy()}')\n",
        "print(f'==='*15)\n",
        "\n",
        "acuracia = np.mean(y.numpy() == (resultado.numpy() > 0.5)*1)\n",
        "print(f'Acuracia: {acuracia}')"
      ],
      "metadata": {
        "colab": {
          "base_uri": "https://localhost:8080/"
        },
        "id": "fxDKN_X8War1",
        "outputId": "ff644730-4c95-428b-9852-dffafaa0aa19"
      },
      "execution_count": 164,
      "outputs": [
        {
          "output_type": "stream",
          "name": "stdout",
          "text": [
            "Perda: 1.1875790357589722\n",
            "=============================================\n",
            "Acuracia: 0.5036761101852759\n"
          ]
        }
      ]
    },
    {
      "cell_type": "markdown",
      "source": [
        "## Gradiente Descendente\n",
        "Para ajustar os pesos e vieses, tendo em mente a diminuição do loss, temos que achar o custo mínimo. Para isso, usamos o gradiente da função. O algorítimo funcionará com as seguintes etapas:\n",
        "\n",
        "1. Inicializamos os pesos aleatoriamente\n",
        "2. Calculamos o gradiente em função de cada parâmetro.\n",
        "3. Atualizamos o parâmetro\n",
        "\n",
        "Esse processo é chamado de Backpropagation. Considerando os pesos como $\\omega$ e os vieses como $b$, e a função custo como $C$ atualizamos os parâmetros com um uma taxa de aprendizado $\\eta$\n",
        "\n",
        "$$\n",
        "\\begin{aligned}\n",
        "\\omega_{k} \\rightarrow \\omega_{k}' = \\omega_{k} - \\eta\\frac{\\partial C}{\\partial \\omega_{k}} \\\\\n",
        "b_{l} \\rightarrow b_{l}' = b_l - \\eta\\frac{\\partial C}{\\partial b_{l}}\n",
        "\\end{aligned}\n",
        "$$"
      ],
      "metadata": {
        "id": "4fOc-z0zXLyZ"
      }
    },
    {
      "cell_type": "code",
      "source": [
        "tamanho = X.shape[1]\n",
        "peso = tf.Variable(tf.random.normal([tamanho,1], name = 'peso'))\n",
        "vies = tf.Variable(tf.random.normal([1]))\n",
        "\n",
        "def neuronio(x):\n",
        "  return tf.sigmoid(tf.add(tf.matmul(x, peso), vies))"
      ],
      "metadata": {
        "id": "576JivVSbYXo"
      },
      "execution_count": 165,
      "outputs": []
    },
    {
      "cell_type": "code",
      "source": [
        "learning_rate = 0.01\n",
        "\n",
        "otimizador = tf.optimizers.SGD(learning_rate = learning_rate)"
      ],
      "metadata": {
        "id": "FkEmHDn8Yapt"
      },
      "execution_count": 166,
      "outputs": []
    },
    {
      "cell_type": "markdown",
      "source": [
        "Para facilitar a execução, reiniciamos os pesos e vieses"
      ],
      "metadata": {
        "id": "3FeqFp8CbPID"
      }
    },
    {
      "cell_type": "markdown",
      "source": [
        "Definimos quantas vezes o código será executado como epocas (epochs). Armazenamos todos os dados do gradiente em uma \"fita\""
      ],
      "metadata": {
        "id": "TIWQJz2YZTZ2"
      }
    },
    {
      "cell_type": "code",
      "source": [
        "import time\n",
        "epochs = 1000\n",
        "\n",
        "#Tempo de execução\n",
        "tic = time.time()\n",
        "\n",
        "for epoch in range(epochs):\n",
        "  # Marcar tempo de início\n",
        "  # Armazenando os dados\n",
        "  with tf.GradientTape() as tape:\n",
        "    resultado = neuronio(entrada)\n",
        "    loss = calculo_perda(y_true=y, y_pred=resultado)\n",
        "\n",
        "  # Pegando os gradientes\n",
        "  gradientes = tape.gradient(loss, [peso, vies])\n",
        "  #Aplicando os gradientes no otimizador SGD\n",
        "  otimizador.apply_gradients(zip(gradientes, [peso, vies]))\n",
        "\n",
        "  #Criando um callout para reduzir o número de saídas\n",
        "  if (epoch + 1) % 100 == 0: #se o resto da divisão por 100 == 0\n",
        "    print(f'Epoch: {epoch+1}, loss: {loss.numpy()}')\n",
        "\n",
        "tac = time.time()\n",
        "tempo = (tac - tic)\n",
        "\n",
        "acuracia = np.mean(y.numpy() == (resultado.numpy()>0.5)*1)\n",
        "print('==='*15)\n",
        "print(f'Cálculo finalizado \\n Tempo total: {tempo}s, Acurácia: {acuracia}')"
      ],
      "metadata": {
        "colab": {
          "base_uri": "https://localhost:8080/"
        },
        "id": "KX7QPKjuZZGv",
        "outputId": "ac786806-8709-40d7-f3a9-58e68ca52182"
      },
      "execution_count": 167,
      "outputs": [
        {
          "output_type": "stream",
          "name": "stdout",
          "text": [
            "Epoch: 100, loss: 1.1379752159118652\n",
            "Epoch: 200, loss: 1.0010730028152466\n",
            "Epoch: 300, loss: 0.8968400955200195\n",
            "Epoch: 400, loss: 0.8202109932899475\n",
            "Epoch: 500, loss: 0.7643826007843018\n",
            "Epoch: 600, loss: 0.7231219410896301\n",
            "Epoch: 700, loss: 0.6917772889137268\n",
            "Epoch: 800, loss: 0.6672418117523193\n",
            "Epoch: 900, loss: 0.6475305557250977\n",
            "Epoch: 1000, loss: 0.6313726902008057\n",
            "=============================================\n",
            "Cálculo finalizado \n",
            " Tempo total: 9.911874532699585s, Acurácia: 0.49959154331274713\n"
          ]
        }
      ]
    },
    {
      "cell_type": "markdown",
      "source": [
        "Calculando agora com diversos valores do hiperparametro `learning_rate`"
      ],
      "metadata": {
        "id": "2aq6VHFqc6zg"
      }
    },
    {
      "cell_type": "code",
      "source": [
        "learning_rate = [0.1,0.001,0.0001,0.05]\n",
        "\n",
        "for lr in learning_rate:\n",
        "  print(f'==='*15)\n",
        "  print(f'Calculando com lr == {lr}')\n",
        "  tamanho = X.shape[1]\n",
        "  peso = tf.Variable(tf.random.normal([tamanho,1], name = 'peso'))\n",
        "  vies = tf.Variable(tf.random.normal([1]))\n",
        "\n",
        "  def neuronio(x):\n",
        "    return tf.sigmoid(tf.add(tf.matmul(x, peso), vies))\n",
        "\n",
        "  otimizador = tf.optimizers.SGD(learning_rate = lr)\n",
        "\n",
        "  epochs = 1000\n",
        "\n",
        "  #Tempo de execução\n",
        "  tic = time.time()\n",
        "\n",
        "  for epoch in range(epochs):\n",
        "    # Marcar tempo de início\n",
        "    # Armazenando os dados\n",
        "    with tf.GradientTape() as tape:\n",
        "      resultado = neuronio(entrada)\n",
        "      loss = calculo_perda(y_true=y, y_pred=resultado)\n",
        "\n",
        "    # Pegando os gradientes\n",
        "    gradientes = tape.gradient(loss, [peso, vies])\n",
        "    #Aplicando os gradientes no otimizador SGD\n",
        "    otimizador.apply_gradients(zip(gradientes, [peso, vies]))\n",
        "\n",
        "    #Criando um callout para reduzir o número de saídas\n",
        "    if (epoch + 1) % 200 == 0: #se o resto da divisão por 100 == 0\n",
        "      print(f'Epoch: {epoch+1}, loss: {loss.numpy()}')\n",
        "\n",
        "  tac = time.time()\n",
        "  tempo = (tac - tic)\n",
        "\n",
        "  acuracia = np.mean(y.numpy() == (resultado.numpy()>0.5)*1)\n",
        "  print('==='*15)\n",
        "  print(f'Cálculo finalizado, lr == {lr} \\n Tempo total: {tempo:.2f}s, loss: {loss}, Acurácia: {acuracia}')"
      ],
      "metadata": {
        "colab": {
          "base_uri": "https://localhost:8080/"
        },
        "id": "N9zV5APDc9so",
        "outputId": "146fe985-1b15-45a4-cae3-b9ae456ba6ec"
      },
      "execution_count": 168,
      "outputs": [
        {
          "output_type": "stream",
          "name": "stdout",
          "text": [
            "=============================================\n",
            "Calculando com lr == 0.1\n",
            "Epoch: 200, loss: 0.5570492148399353\n",
            "Epoch: 400, loss: 0.5401929020881653\n",
            "Epoch: 600, loss: 0.5355215072631836\n",
            "Epoch: 800, loss: 0.5336236357688904\n",
            "Epoch: 1000, loss: 0.5327273607254028\n",
            "=============================================\n",
            "Cálculo finalizado, lr == 0.1 \n",
            " Tempo total: 10.39s, loss: 0.5327273607254028, Acurácia: 0.5025868923526016\n",
            "=============================================\n",
            "Calculando com lr == 0.001\n",
            "Epoch: 200, loss: 1.6333237886428833\n",
            "Epoch: 400, loss: 1.5786434412002563\n",
            "Epoch: 600, loss: 1.525165319442749\n",
            "Epoch: 800, loss: 1.4729666709899902\n",
            "Epoch: 1000, loss: 1.4221235513687134\n",
            "=============================================\n",
            "Cálculo finalizado, lr == 0.001 \n",
            " Tempo total: 10.46s, loss: 1.4221235513687134, Acurácia: 0.5393479942053612\n",
            "=============================================\n",
            "Calculando com lr == 0.0001\n",
            "Epoch: 200, loss: 1.1887468099594116\n",
            "Epoch: 400, loss: 1.1847176551818848\n",
            "Epoch: 600, loss: 1.180701732635498\n",
            "Epoch: 800, loss: 1.1767041683197021\n",
            "Epoch: 1000, loss: 1.172715663909912\n",
            "=============================================\n",
            "Cálculo finalizado, lr == 0.0001 \n",
            " Tempo total: 10.66s, loss: 1.172715663909912, Acurácia: 0.4767179688265856\n",
            "=============================================\n",
            "Calculando com lr == 0.05\n",
            "Epoch: 200, loss: 0.7354840040206909\n",
            "Epoch: 400, loss: 0.6057047843933105\n",
            "Epoch: 600, loss: 0.5642910003662109\n",
            "Epoch: 800, loss: 0.5480826497077942\n",
            "Epoch: 1000, loss: 0.5406733751296997\n",
            "=============================================\n",
            "Cálculo finalizado, lr == 0.05 \n",
            " Tempo total: 9.87s, loss: 0.5406733751296997, Acurácia: 0.49877462993824134\n"
          ]
        }
      ]
    },
    {
      "cell_type": "markdown",
      "source": [
        "Observamos então a influencia do learning rate na nossa função custo"
      ],
      "metadata": {
        "id": "uUh6SC_vfBCu"
      }
    },
    {
      "cell_type": "markdown",
      "source": [
        "## Performance do modelo com treino e teste\n",
        "\n",
        "O nosso modelo pode simplesmente decorar os dados de treino. Para isso, temos que dividir os dados. Com `test_size` vamos definir qual a divisão correta, usamos o stratify para manter a proporção de valores verdadeiro e falso. Mas, antes, vamos refazer a normalização de forma correta."
      ],
      "metadata": {
        "id": "KNWo7cZKfh-a"
      }
    },
    {
      "cell_type": "code",
      "source": [
        "X = doenca_cardiaca.data.features\n",
        "X = X[['age','chol','cp']]\n",
        "\n",
        "df_cp = pd.get_dummies(X['cp'], prefix='cp', dtype=int)\n",
        "df_cp.head()\n",
        "\n",
        "X = X.drop('cp', axis = 1).join(df_cp)\n",
        "\n",
        "entrada = tf.constant(X, dtype = tf.float32)"
      ],
      "metadata": {
        "id": "jf-RKoHyg5fL"
      },
      "execution_count": 171,
      "outputs": []
    },
    {
      "cell_type": "markdown",
      "source": [
        "Separando as amostras"
      ],
      "metadata": {
        "id": "MkV4mViThS1-"
      }
    },
    {
      "cell_type": "code",
      "source": [
        "from sklearn.model_selection import train_test_split\n",
        "\n",
        "x_treino, x_teste, y_treino, y_teste = train_test_split(entrada.numpy(), y.numpy(),\n",
        "                                                        test_size = 0.2,\n",
        "                                                        stratify = y.numpy(),\n",
        "                                                        random_state = 432\n",
        "                                                        )"
      ],
      "metadata": {
        "id": "KsXs7yvVfuCi"
      },
      "execution_count": 173,
      "outputs": []
    },
    {
      "cell_type": "code",
      "source": [
        "scaler = StandardScaler()\n",
        "x_treino = scaler.fit_transform(x_treino)\n",
        "x_teste = scaler.fit_transform(x_teste)\n",
        "\n",
        "#Convertendo para um tensor\n",
        "x_treino = tf.constant(x_treino, dtype = tf.float32)\n",
        "x_teste = tf.constant(x_teste, dtype = tf.float32)\n",
        "y_treino = tf.constant(y_treino, dtype = tf.float32)\n",
        "y_teste = tf.constant(y_teste, dtype = tf.float32)"
      ],
      "metadata": {
        "id": "8qZ0otH6hSYd"
      },
      "execution_count": 174,
      "outputs": []
    },
    {
      "cell_type": "markdown",
      "source": [
        "Fazendo o treinamento com o gradiente descendente"
      ],
      "metadata": {
        "id": "_JjQp2hKidrS"
      }
    },
    {
      "cell_type": "code",
      "source": [
        "def model_train(lr, epochs, visible_epochs = True):\n",
        "  print(f'Learning rate: {lr}')\n",
        "  pesos = tf.Variable(tf.random.normal([tamanho, 1], name = 'pesos'))\n",
        "  vies = tf.Variable(tf.random.normal([1], name = 'vies'))\n",
        "\n",
        "  loss_fnc = tf.keras.losses.BinaryCrossentropy()\n",
        "  optimizer = tf.optimizers.SGD(learning_rate = lr)\n",
        "\n",
        "  def neuronio(x):\n",
        "    return tf.sigmoid(tf.add(tf.matmul(x, pesos), vies))\n",
        "\n",
        "\n",
        "  # Armazenamos uma lista de loss para um futuro gráfico\n",
        "  losses = []\n",
        "\n",
        "  tic = time.time()\n",
        "\n",
        "  for epoch in range(epochs):\n",
        "    with tf.GradientTape() as tape:\n",
        "      resultado = neuronio(x_treino)\n",
        "      loss = loss_fnc(y_treino, resultado)\n",
        "\n",
        "    gradientes = tape.gradient(loss, [pesos, vies])\n",
        "    optimizer.apply_gradients(zip(gradientes, [pesos, vies]))\n",
        "    # Armazenando os losses\n",
        "    losses.append(loss.numpy())\n",
        "\n",
        "    if ((epoch+1) % 500 == 0)and(visible_epochs == True):\n",
        "      print(f'Epoch: {epoch+1}, loss: {loss.numpy()}')\n",
        "\n",
        "  tac = time.time()\n",
        "  tempo = tac - tic\n",
        "\n",
        "  print(f'Tempo de execução: {tempo}, loss: {loss}')\n",
        "  return losses"
      ],
      "metadata": {
        "id": "oJLRr0Qhigmi"
      },
      "execution_count": 175,
      "outputs": []
    },
    {
      "cell_type": "code",
      "source": [
        "teste = model_train(0.1, 5000)"
      ],
      "metadata": {
        "colab": {
          "base_uri": "https://localhost:8080/"
        },
        "id": "kxV2nqHslciL",
        "outputId": "14ce8b3b-251e-4e11-98ef-f5840a840197"
      },
      "execution_count": 176,
      "outputs": [
        {
          "output_type": "stream",
          "name": "stdout",
          "text": [
            "Learning rate: 0.1\n",
            "Epoch: 500, loss: 0.5438566207885742\n",
            "Epoch: 1000, loss: 0.5438565611839294\n",
            "Epoch: 1500, loss: 0.5438565611839294\n",
            "Epoch: 2000, loss: 0.5438565611839294\n",
            "Epoch: 2500, loss: 0.5438565611839294\n",
            "Epoch: 3000, loss: 0.5438565611839294\n",
            "Epoch: 3500, loss: 0.5438565611839294\n",
            "Epoch: 4000, loss: 0.5438565611839294\n",
            "Epoch: 4500, loss: 0.5438565611839294\n",
            "Epoch: 5000, loss: 0.5438565611839294\n",
            "Tempo de execução: 50.314290046691895, loss: 0.5438565611839294\n"
          ]
        }
      ]
    },
    {
      "cell_type": "markdown",
      "source": [
        "Podemos visualizar o nosso loss ao decorrer do treino."
      ],
      "metadata": {
        "id": "0KfXYY_tkfUX"
      }
    },
    {
      "cell_type": "code",
      "source": [
        "plt.plot(teste)\n",
        "plt.title('Losses durante treinamento')\n",
        "plt.xlabel('Epoch')\n",
        "plt.ylabel('Loss')\n",
        "plt.ylim(0, 1.25)"
      ],
      "metadata": {
        "colab": {
          "base_uri": "https://localhost:8080/",
          "height": 490
        },
        "id": "ejah4rJ8kebE",
        "outputId": "7d2c779e-f132-4c6e-fc52-04fce445a708"
      },
      "execution_count": 177,
      "outputs": [
        {
          "output_type": "execute_result",
          "data": {
            "text/plain": [
              "(0.0, 1.25)"
            ]
          },
          "metadata": {},
          "execution_count": 177
        },
        {
          "output_type": "display_data",
          "data": {
            "text/plain": [
              "<Figure size 640x480 with 1 Axes>"
            ],
            "image/png": "[encoded data removed]"
          },
          "metadata": {}
        }
      ]
    },
    {
      "cell_type": "markdown",
      "source": [
        "Vamos fazer uma otimização de hiperparâmetros e visualizar a learning rate"
      ],
      "metadata": {
        "id": "YMLnbVyblGkn"
      }
    },
    {
      "cell_type": "code",
      "source": [
        "lrs = [0.1, 0.01, 0.001, 0.0001]\n",
        "\n",
        "data = {}\n",
        "\n",
        "for lr in lrs:\n",
        "    data[lr] = model_train(lr, 5000, visible_epochs = False)\n",
        "\n",
        "fig, axs = plt.subplots(2,2, figsize=(10,8))\n",
        "\n",
        "# Itera sobre os quadrantes e as taxas de aprendizado\n",
        "for ax, (lr, values) in zip(axs.flat, data.items()):\n",
        "    ax.plot(values)\n",
        "    ax.set_title(f'lr = {lr}')\n",
        "    ax.set_xlabel('Epoch')\n",
        "    ax.set_ylabel('Loss')  # Rótulo para o eixo y\n",
        "    ax.set_ylim(0, 2)\n",
        "\n",
        "# Ajusta o layout para que os subplots não se sobreponham\n",
        "plt.tight_layout()\n",
        "\n",
        "# Mostra a figura\n",
        "plt.show()\n"
      ],
      "metadata": {
        "colab": {
          "base_uri": "https://localhost:8080/",
          "height": 761
        },
        "id": "21QwLj9JlnEM",
        "outputId": "3f6e22e5-0a31-4636-ae6c-d9dbb3001585"
      },
      "execution_count": 178,
      "outputs": [
        {
          "output_type": "stream",
          "name": "stdout",
          "text": [
            "Learning rate: 0.1\n",
            "Tempo de execução: 50.76775789260864, loss: 0.5438565611839294\n",
            "Learning rate: 0.01\n",
            "Tempo de execução: 51.242624282836914, loss: 0.5438565611839294\n",
            "Learning rate: 0.001\n",
            "Tempo de execução: 50.18684005737305, loss: 0.6263332962989807\n",
            "Learning rate: 0.0001\n",
            "Tempo de execução: 50.23325514793396, loss: 1.873496413230896\n"
          ]
        },
        {
          "output_type": "display_data",
          "data": {
            "text/plain": [
              "<Figure size 1000x800 with 4 Axes>"
            ],
            "image/png": "[encoded data removed]"
          },
          "metadata": {}
        }
      ]
    },
    {
      "cell_type": "markdown",
      "source": [
        "## Testando o modelo\n",
        "Vamos avaliar o modelo com os dados de teste, primeiro calculando a taxa de acerto."
      ],
      "metadata": {
        "id": "Arex1mDcpBQC"
      }
    },
    {
      "cell_type": "code",
      "source": [
        "losses = []\n",
        "accuracies = []\n",
        "epochs = 5000\n",
        "learning_rate = 0.01\n",
        "\n",
        "loss_fnc = tf.keras.losses.BinaryCrossentropy()\n",
        "optimizer = tf.optimizers.SGD(learning_rate = learning_rate)\n",
        "\n",
        "pesos = tf.Variable(tf.random.normal([tamanho, 1], name = 'pesos'))\n",
        "vies = tf.Variable(tf.random.normal([1], name = 'vies'))\n",
        "\n",
        "def neuronio(x):\n",
        "  return tf.sigmoid(tf.add(tf.matmul(x, pesos), vies))\n",
        "\n",
        "for epoch in range(epochs):\n",
        "  with tf.GradientTape() as tape:\n",
        "    resultado = neuronio(x_treino)\n",
        "    loss = loss_fnc(y_treino, resultado)\n",
        "\n",
        "    gradientes = tape.gradient(loss, [pesos, vies])\n",
        "    optimizer.apply_gradients(zip(gradientes, [pesos, vies]))\n",
        "\n",
        "    # Taxa de acerto\n",
        "    teste = neuronio(x_teste)\n",
        "    accuracy = np.mean(y_teste.numpy() == (teste.numpy() > 0.5)*1)\n",
        "\n",
        "    losses.append(loss.numpy())\n",
        "    accuracies.append(accuracy)\n",
        "\n",
        "    if (epoch+1) % 500 == 0:\n",
        "      print(f'Epoch: {epoch+1}, loss: {loss.numpy()}, accuracy: {accuracy}')\n",
        "\n",
        "\n"
      ],
      "metadata": {
        "colab": {
          "base_uri": "https://localhost:8080/"
        },
        "id": "phBXMQ1cpKff",
        "outputId": "818fda55-8d2e-417d-ac10-6c16d564d902"
      },
      "execution_count": 179,
      "outputs": [
        {
          "output_type": "stream",
          "name": "stdout",
          "text": [
            "Epoch: 500, loss: 0.8506014943122864, accuracy: 0.4926095135716205\n",
            "Epoch: 1000, loss: 0.6247125864028931, accuracy: 0.5047030368180596\n",
            "Epoch: 1500, loss: 0.5651642084121704, accuracy: 0.5047030368180596\n",
            "Epoch: 2000, loss: 0.5489643216133118, accuracy: 0.5047030368180596\n",
            "Epoch: 2500, loss: 0.5450558662414551, accuracy: 0.5047030368180596\n",
            "Epoch: 3000, loss: 0.5441416501998901, accuracy: 0.5047030368180596\n",
            "Epoch: 3500, loss: 0.5439253449440002, accuracy: 0.5047030368180596\n",
            "Epoch: 4000, loss: 0.5438733100891113, accuracy: 0.5047030368180596\n",
            "Epoch: 4500, loss: 0.5438606142997742, accuracy: 0.5047030368180596\n",
            "Epoch: 5000, loss: 0.5438573956489563, accuracy: 0.5047030368180596\n"
          ]
        }
      ]
    },
    {
      "cell_type": "code",
      "source": [
        "print(f'Menor loss: {min(losses)}')\n",
        "print(f'Maior taxa de acerto: {max(accuracies)}')"
      ],
      "metadata": {
        "colab": {
          "base_uri": "https://localhost:8080/"
        },
        "id": "ow-9ZkbkrpV5",
        "outputId": "61f17789-e460-4ac2-e813-f16dc9c8a4d1"
      },
      "execution_count": 180,
      "outputs": [
        {
          "output_type": "stream",
          "name": "stdout",
          "text": [
            "Menor loss: 0.5438573956489563\n",
            "Maior taxa de acerto: 0.5047030368180596\n"
          ]
        }
      ]
    },
    {
      "cell_type": "markdown",
      "source": [
        "Visualizando os gráficos"
      ],
      "metadata": {
        "id": "_ldxNulCr1EK"
      }
    },
    {
      "cell_type": "code",
      "source": [
        "plt.plot(losses)\n",
        "plt.plot(accuracies)\n",
        "plt.title('Perdas e taxa de acerto')\n",
        "plt.xlabel('Epoch')\n",
        "plt.ylim(0,2)\n",
        "plt.show()"
      ],
      "metadata": {
        "colab": {
          "base_uri": "https://localhost:8080/",
          "height": 472
        },
        "id": "SUxfP3Pxr0vw",
        "outputId": "1aaa1b95-473c-4f9c-a118-91cc7a0fdd44"
      },
      "execution_count": 181,
      "outputs": [
        {
          "output_type": "display_data",
          "data": {
            "text/plain": [
              "<Figure size 640x480 with 1 Axes>"
            ],
            "image/png": "[encoded data removed]"
          },
          "metadata": {}
        }
      ]
    },
    {
      "cell_type": "markdown",
      "source": [
        "# Camada oculta\n",
        "Em busca de uma eficiencia melhor da nossa rede neural, e uma melhoria nos resultados, podemos tentar colocar mais uma camada de processamento.\n",
        "\n",
        "Para isso, temos que nos atentar às estruturas das matrizes na geração dos pesos e vieses\n",
        "\n"
      ],
      "metadata": {
        "id": "OH7-xcH3shCl"
      }
    },
    {
      "cell_type": "code",
      "source": [
        "def gerar_pesos_vieses(size_anterior, n_neuronios):\n",
        "  pesos = tf.Variable(tf.random.normal([size_anterior, n_neuronios]))\n",
        "  vieses = tf.Variable(tf.random.normal([n_neuronios]))\n",
        "\n",
        "  return pesos, vieses"
      ],
      "metadata": {
        "id": "OSxDNyOwZoQ0"
      },
      "execution_count": 182,
      "outputs": []
    },
    {
      "cell_type": "markdown",
      "source": [
        "Agora, geramos os pesos e nossos modelos"
      ],
      "metadata": {
        "id": "AKdFuCUwcQkO"
      }
    },
    {
      "cell_type": "code",
      "source": [
        "size_entrada = x_treino.shape[1]\n",
        "\n",
        "pesos1, vies1 = gerar_pesos_vieses(size_entrada, 3)\n",
        "pesos2, vies2 = gerar_pesos_vieses(3, 1)\n",
        "\n",
        "optimizer = tf.optimizers.SGD(learning_rate = 0.01)\n",
        "\n",
        "epochs = 1000\n",
        "losses = []\n",
        "accuracies = []\n",
        "\n",
        "def neuronio(x, pesos, vies):\n",
        "  return tf.sigmoid(tf.add(tf.matmul(x,pesos), vies))\n",
        "\n",
        "tic = time.time()\n",
        "for epoch in range(epochs):\n",
        "  with tf.GradientTape() as tape:\n",
        "    resultado = neuronio(x_treino, pesos1, vies1)\n",
        "    resultado = neuronio(resultado, pesos2, vies2)\n",
        "    loss = calculo_perda(y_treino, resultado)\n",
        "\n",
        "    predict = neuronio(x_teste, pesos1, vies1)\n",
        "    predict = neuronio(predict, pesos2, vies2)\n",
        "    accuracy = np.mean(y_teste.numpy() == (predict.numpy() > 0.5)*1)\n",
        "\n",
        "    losses.append(loss)\n",
        "    accuracies.append(accuracy)\n",
        "\n",
        "    gradientes = tape.gradient(loss, [pesos1, vies1, pesos2, vies2])\n",
        "    optimizer.apply_gradients(zip(gradientes, [pesos1, vies1, pesos2, vies2]))\n",
        "\n",
        "    if epoch % 100 == 0:\n",
        "      print(f'Epoch: {epoch}, loss: {loss}, accuracy: {accuracy}')\n",
        "\n",
        "tac = time.time()\n",
        "tempo = tac-tic\n",
        "\n",
        "print(f'Tempo total de execução {tempo}s')"
      ],
      "metadata": {
        "colab": {
          "base_uri": "https://localhost:8080/"
        },
        "id": "a8sOY3xoaWNJ",
        "outputId": "c49abffa-7696-4898-c550-e7ceb7f9b6a3"
      },
      "execution_count": 183,
      "outputs": [
        {
          "output_type": "stream",
          "name": "stdout",
          "text": [
            "Epoch: 0, loss: 0.9260503053665161, accuracy: 0.5302338081160978\n",
            "Epoch: 100, loss: 0.870952308177948, accuracy: 0.5302338081160978\n",
            "Epoch: 200, loss: 0.8309295177459717, accuracy: 0.5302338081160978\n",
            "Epoch: 300, loss: 0.8003239035606384, accuracy: 0.5302338081160978\n",
            "Epoch: 400, loss: 0.7757757306098938, accuracy: 0.5302338081160978\n",
            "Epoch: 500, loss: 0.7553321123123169, accuracy: 0.5302338081160978\n",
            "Epoch: 600, loss: 0.7378409504890442, accuracy: 0.5302338081160978\n",
            "Epoch: 700, loss: 0.7225929498672485, accuracy: 0.5302338081160978\n",
            "Epoch: 800, loss: 0.7091246843338013, accuracy: 0.5302338081160978\n",
            "Epoch: 900, loss: 0.6971139907836914, accuracy: 0.5315775329212578\n",
            "Tempo total de execução 14.102046251296997s\n"
          ]
        }
      ]
    },
    {
      "cell_type": "code",
      "source": [
        "print(f'Menor custo: {min(losses)}')\n",
        "print(f'Maior acurácia: {max(accuracies)}')"
      ],
      "metadata": {
        "colab": {
          "base_uri": "https://localhost:8080/"
        },
        "id": "xpeleXUOekVj",
        "outputId": "d92e6d49-beed-4424-bdd5-47184b337edb"
      },
      "execution_count": 184,
      "outputs": [
        {
          "output_type": "stream",
          "name": "stdout",
          "text": [
            "Menor custo: 0.6864254474639893\n",
            "Maior acurácia: 0.5342649825315775\n"
          ]
        }
      ]
    },
    {
      "cell_type": "code",
      "source": [
        "plt.plot(losses)\n",
        "plt.plot(accuracies)\n",
        "plt.show()"
      ],
      "metadata": {
        "colab": {
          "base_uri": "https://localhost:8080/",
          "height": 430
        },
        "id": "qwKl7GGReq1O",
        "outputId": "86a23859-78b7-4709-b0ca-aee2d0204504"
      },
      "execution_count": 185,
      "outputs": [
        {
          "output_type": "display_data",
          "data": {
            "text/plain": [
              "<Figure size 640x480 with 1 Axes>"
            ],
            "image/png": "[encoded data removed]"
          },
          "metadata": {}
        }
      ]
    },
    {
      "cell_type": "markdown",
      "source": [
        "# Múltiplas Camadas Ocultas\n",
        "Vamos começar uma estrutura de Depp Learning com várias camadas de processamento\n",
        "\n",
        "![Captura de tela 2024-08-31 181536.png](data:image/png;base64,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)"
      ],
      "metadata": {
        "id": "GmjpnDIvgMjT"
      }
    },
    {
      "cell_type": "code",
      "source": [
        "def pesos_vieses_deep(size_entrada, size_camada1, size_camada2):\n",
        "\n",
        "  pesos1 = tf.Variable(tf.random.normal([size_entrada, size_camada1]))\n",
        "  vies1 = tf.Variable(tf.random.normal([size_camada1]))\n",
        "\n",
        "  pesos2 = tf.Variable(tf.random.normal([size_camada1, size_camada2]))\n",
        "  vies2 = tf.Variable(tf.random.normal([size_camada2]))\n",
        "\n",
        "  pesos_saida = tf.Variable(tf.random.normal([size_camada2, 1]))\n",
        "  vies_saida = tf.Variable(tf.random.normal([1]))\n",
        "\n",
        "  return pesos1, vies1, pesos2, vies2, pesos_saida, vies_saida"
      ],
      "metadata": {
        "id": "hFfAHGI1f_2T"
      },
      "execution_count": 186,
      "outputs": []
    },
    {
      "cell_type": "code",
      "source": [
        "pesos1, vies1, pesos2, vies2, pesos_saida, vies_saida = pesos_vieses_deep(size_entrada, 6, 4)"
      ],
      "metadata": {
        "id": "rcH2CREThAzF"
      },
      "execution_count": 187,
      "outputs": []
    },
    {
      "cell_type": "code",
      "source": [
        "optimizer = tf.optimizers.SGD(learning_rate = 0.01)\n",
        "epochs = 1000\n",
        "\n",
        "losses = []\n",
        "accuracies = []\n",
        "\n",
        "def neuronio(x, pesos, vies):\n",
        "  return tf.sigmoid(tf.add(tf.matmul(x, pesos), vies))\n",
        "\n",
        "for epoch in range(epochs):\n",
        "  with tf.GradientTape() as tape:\n",
        "    resultado = neuronio(x_treino, pesos1, vies1) #Camada de input\n",
        "    resultado = neuronio(resultado, pesos2, vies2) #Camada intermediária\n",
        "    resultado = neuronio(resultado, pesos_saida, vies_saida) # Camada final gerando saída\n",
        "    loss = calculo_perda(y_treino, resultado)\n",
        "\n",
        "  losses.append(loss.numpy())\n",
        "\n",
        "  predict = neuronio(x_teste, pesos1, vies1)\n",
        "  predict = neuronio(predict, pesos2, vies2)\n",
        "  predict = neuronio(predict, pesos_saida, vies_saida)\n",
        "\n",
        "  accuracy = np.mean(y_teste.numpy() == (predict.numpy()>0.5)*1)\n",
        "  accuracies.append(accuracy)\n",
        "\n",
        "  gradientes = tape.gradient(loss, [pesos1, vies1, pesos2, vies2, pesos_saida, vies_saida])\n",
        "\n",
        "  optimizer.apply_gradients(zip(gradientes, [pesos1, vies1, pesos2, vies2, pesos_saida, vies_saida]))\n",
        "\n",
        "print(f'Foram concluídas {epoch+1} epochs.\\n Loss: {loss.numpy()}')\n",
        "print(f'Acurácia: {accuracy}')\n"
      ],
      "metadata": {
        "colab": {
          "base_uri": "https://localhost:8080/"
        },
        "id": "0ZGzQV8ZRfEZ",
        "outputId": "35147df6-d851-445d-db1e-f0ff1a44525a"
      },
      "execution_count": 188,
      "outputs": [
        {
          "output_type": "stream",
          "name": "stdout",
          "text": [
            "Foram concluídas 1000 epochs.\n",
            " Loss: 0.6378583312034607\n",
            "Acurácia: 0.5154528352593389\n"
          ]
        }
      ]
    },
    {
      "cell_type": "code",
      "source": [
        "plt.plot(losses)\n",
        "plt.plot(accuracies)\n",
        "plt.xlabel('Epochs')\n",
        "plt.ylim(0,1)\n",
        "plt.legend(['Loss', 'Acurácia'])\n",
        "plt.show()"
      ],
      "metadata": {
        "colab": {
          "base_uri": "https://localhost:8080/",
          "height": 455
        },
        "id": "1PgvNiyrWhjE",
        "outputId": "c78e7dae-f0d6-43f2-8c6b-7ac73906e978"
      },
      "execution_count": 189,
      "outputs": [
        {
          "output_type": "display_data",
          "data": {
            "text/plain": [
              "<Figure size 640x480 with 1 Axes>"
            ],
            "image/png": "[encoded data removed]"
          },
          "metadata": {}
        }
      ]
    },
    {
      "cell_type": "markdown",
      "source": [
        "Podemos fazer outra função de ativação. Utilizaremos a ReLU:\n",
        "\n",
        "$$\n",
        "f(x) = x^{+} = \\max(0,x) = \\frac{x + |x|}{2} =\n",
        "\\begin{cases}\n",
        "    x & \\text{se } x > 0, \\\\\n",
        "    0 & \\text{caso contrário}.\n",
        "\\end{cases}\n",
        "$$\n",
        "\n",
        "Manteremos ela apenas nas camadas intermediárias, tendo em vista que nosso critério de análise de acerto está baseado na sigmoid.\n"
      ],
      "metadata": {
        "id": "9FJcpJqlUzfd"
      }
    },
    {
      "cell_type": "code",
      "source": [
        "variaveis = pesos_vieses_deep(6,6,4)\n",
        "pesos1, vies1, pesos2, vies2, pesos_saida, vies_saida = variaveis\n",
        "\n",
        "optimizer = tf.optimizers.SGD(learning_rate = 0.01)\n",
        "epochs = 1000\n",
        "\n",
        "losses = []\n",
        "accuracies = []\n",
        "\n",
        "def neuronio(x, pesos, vies):\n",
        "  return tf.add(tf.matmul(x, pesos), vies)\n",
        "\n",
        "for epoch in range(epochs):\n",
        "  with tf.GradientTape() as tape:\n",
        "    resultado = tf.nn.relu(neuronio(x_treino, pesos1, vies1)) #Camada de input\n",
        "    resultado = tf.nn.relu(neuronio(resultado, pesos2, vies2)) #Camada intermediária\n",
        "    resultado = tf.sigmoid(neuronio(resultado, pesos_saida, vies_saida)) # Camada final gerando saída\n",
        "    loss = calculo_perda(y_treino, resultado)\n",
        "\n",
        "  losses.append(loss.numpy())\n",
        "\n",
        "  predict = neuronio(x_teste, pesos1, vies1)\n",
        "  predict = neuronio(predict, pesos2, vies2)\n",
        "  predict = neuronio(predict, pesos_saida, vies_saida)\n",
        "\n",
        "  accuracy = np.mean(y_teste.numpy() == (predict.numpy()>0.5)*1)\n",
        "  accuracies.append(accuracy)\n",
        "\n",
        "  gradientes = tape.gradient(loss, [pesos1, vies1, pesos2, vies2, pesos_saida, vies_saida])\n",
        "\n",
        "  optimizer.apply_gradients(zip(gradientes, [pesos1, vies1, pesos2, vies2, pesos_saida, vies_saida]))\n",
        "\n",
        "print(f'Foram concluídas {epoch+1} epochs.\\n Loss: {loss.numpy()}')\n",
        "print(f'Acurácia: {accuracy}')\n"
      ],
      "metadata": {
        "colab": {
          "base_uri": "https://localhost:8080/"
        },
        "id": "5HspxjTTUy12",
        "outputId": "82ced379-5b79-48ad-d559-01ae82e72598"
      },
      "execution_count": 190,
      "outputs": [
        {
          "output_type": "stream",
          "name": "stdout",
          "text": [
            "Foram concluídas 1000 epochs.\n",
            " Loss: 0.5553252696990967\n",
            "Acurácia: 0.5060467616232196\n"
          ]
        }
      ]
    },
    {
      "cell_type": "code",
      "source": [
        "print(f'Menor loss com ReLU {min(losses)}')\n",
        "print(f'Maior acurárcia com ReLU {max(accuracies)}')"
      ],
      "metadata": {
        "colab": {
          "base_uri": "https://localhost:8080/"
        },
        "id": "EK17f9xpWQap",
        "outputId": "0892c94f-e26c-41ce-d851-7122e2d742a4"
      },
      "execution_count": 191,
      "outputs": [
        {
          "output_type": "stream",
          "name": "stdout",
          "text": [
            "Menor loss com ReLU 0.5553252696990967\n",
            "Maior acurárcia com ReLU 0.5060467616232196\n"
          ]
        }
      ]
    },
    {
      "cell_type": "code",
      "source": [
        "plt.plot(losses)\n",
        "plt.plot(accuracies)\n",
        "plt.xlabel('Epochs')\n",
        "plt.ylim(0,1)\n",
        "plt.legend(['Loss', 'Acurácia'])\n",
        "plt.show()"
      ],
      "metadata": {
        "colab": {
          "base_uri": "https://localhost:8080/",
          "height": 455
        },
        "id": "WtpyujpHW3M3",
        "outputId": "04532734-681d-44ee-db23-aad994a15386"
      },
      "execution_count": 192,
      "outputs": [
        {
          "output_type": "display_data",
          "data": {
            "text/plain": [
              "<Figure size 640x480 with 1 Axes>"
            ],
            "image/png": "[encoded data removed]"
          },
          "metadata": {}
        }
      ]
    }
  ]
}